{
 "cells": [
  {
   "cell_type": "markdown",
   "metadata": {},
   "source": [
    "# WeatherPy\n",
    "----\n",
    "\n",
    "In this example, Python script was utilized to visualize the weather of 500+ cities across the world of varying distance from the equator. \n",
    "\n",
    "OBSERVED TRENDS\n",
    "1.  In this data Max Temp was the most dependent variable to the independent variable Latitude.\n",
    "2.  Latitude below the equator (Southern Hemisphere) had a positive relationship to Max Temp.  That is as latitude increased, the Max Temp increased.\n",
    "3.  Latitude above the equator (Northern Hemisphere) had a negative relationship to Max Temp.  That is as latitude increased, the Max Temp decreased.\n",
    "4.  The other variables; humidity, cloudiness, and wind speed, were not dependent on latitude.\n"
   ]
  },
  {
   "cell_type": "code",
   "execution_count": 1,
   "metadata": {
    "scrolled": true
   },
   "outputs": [],
   "source": [
    "# Dependencies and Setup\n",
    "import csv\n",
    "import matplotlib.pyplot as plt\n",
    "import pandas as pd\n",
    "import numpy as np\n",
    "import requests\n",
    "import time\n",
    "from scipy.stats import linregress\n",
    "from pprint import pprint\n",
    "import scipy.stats as st\n",
    "\n",
    "# Import API key\n",
    "from api_keys import weather_api_key\n",
    "\n",
    "# Incorporated citipy to determine city based on latitude and longitude\n",
    "from citipy import citipy\n",
    "\n",
    "# Output File (CSV)\n",
    "output_data_file = \"output_data/cities.csv\"\n",
    "\n",
    "# Range of latitudes and longitudes\n",
    "lat_range = (-90, 90)\n",
    "lng_range = (-180, 180)"
   ]
  },
  {
   "cell_type": "markdown",
   "metadata": {},
   "source": [
    "## Generate Cities List"
   ]
  },
  {
   "cell_type": "code",
   "execution_count": 2,
   "metadata": {},
   "outputs": [
    {
     "name": "stdout",
     "output_type": "stream",
     "text": [
      "City Count 616\n",
      "Country Count 616\n"
     ]
    }
   ],
   "source": [
    "# List for holding lat_lngs and cities\n",
    "lat_lngs = []\n",
    "cities = []\n",
    "countries = []\n",
    "\n",
    "# Create a set of random lat and lng combinations\n",
    "lats = np.random.uniform(lat_range[0], lat_range[1], size=1500)\n",
    "lngs = np.random.uniform(lng_range[0], lng_range[1], size=1500)\n",
    "lat_lngs = zip(lats, lngs)\n",
    "\n",
    "# Identify nearest city for each lat, lng combination\n",
    "for lat_lng in lat_lngs:\n",
    "    city = citipy.nearest_city(lat_lng[0], lat_lng[1]).city_name\n",
    "    country = citipy.nearest_city(lat_lng[0], lat_lng[1]).country_code\n",
    "    # If the city is unique, then add it to a our cities list\n",
    "    if city not in cities:\n",
    "        cities.append(city)\n",
    "        countries.append(country.upper())\n",
    "# Print the city count to confirm sufficient count\n",
    "print(\"City Count \" + str(len(cities)))\n",
    "print(\"Country Count \" + str(len(countries)))\n",
    "\n",
    "# lat_lngs\n",
    "# cities"
   ]
  },
  {
   "cell_type": "code",
   "execution_count": 3,
   "metadata": {},
   "outputs": [
    {
     "data": {
      "text/html": [
       "<div>\n",
       "<style scoped>\n",
       "    .dataframe tbody tr th:only-of-type {\n",
       "        vertical-align: middle;\n",
       "    }\n",
       "\n",
       "    .dataframe tbody tr th {\n",
       "        vertical-align: top;\n",
       "    }\n",
       "\n",
       "    .dataframe thead th {\n",
       "        text-align: right;\n",
       "    }\n",
       "</style>\n",
       "<table border=\"1\" class=\"dataframe\">\n",
       "  <thead>\n",
       "    <tr style=\"text-align: right;\">\n",
       "      <th></th>\n",
       "      <th>City</th>\n",
       "      <th>Country</th>\n",
       "      <th>Max Temperature</th>\n",
       "      <th>Humidity (%)</th>\n",
       "      <th>Cloudiness (%)</th>\n",
       "      <th>Wind Speed (MPH)</th>\n",
       "      <th>Latitude</th>\n",
       "      <th>Longitude</th>\n",
       "    </tr>\n",
       "  </thead>\n",
       "  <tbody>\n",
       "    <tr>\n",
       "      <th>0</th>\n",
       "      <td>taolanaro</td>\n",
       "      <td>MG</td>\n",
       "      <td></td>\n",
       "      <td></td>\n",
       "      <td></td>\n",
       "      <td></td>\n",
       "      <td></td>\n",
       "      <td></td>\n",
       "    </tr>\n",
       "    <tr>\n",
       "      <th>1</th>\n",
       "      <td>ushuaia</td>\n",
       "      <td>AR</td>\n",
       "      <td></td>\n",
       "      <td></td>\n",
       "      <td></td>\n",
       "      <td></td>\n",
       "      <td></td>\n",
       "      <td></td>\n",
       "    </tr>\n",
       "    <tr>\n",
       "      <th>2</th>\n",
       "      <td>bethel</td>\n",
       "      <td>US</td>\n",
       "      <td></td>\n",
       "      <td></td>\n",
       "      <td></td>\n",
       "      <td></td>\n",
       "      <td></td>\n",
       "      <td></td>\n",
       "    </tr>\n",
       "    <tr>\n",
       "      <th>3</th>\n",
       "      <td>freeport</td>\n",
       "      <td>US</td>\n",
       "      <td></td>\n",
       "      <td></td>\n",
       "      <td></td>\n",
       "      <td></td>\n",
       "      <td></td>\n",
       "      <td></td>\n",
       "    </tr>\n",
       "    <tr>\n",
       "      <th>4</th>\n",
       "      <td>cape town</td>\n",
       "      <td>ZA</td>\n",
       "      <td></td>\n",
       "      <td></td>\n",
       "      <td></td>\n",
       "      <td></td>\n",
       "      <td></td>\n",
       "      <td></td>\n",
       "    </tr>\n",
       "  </tbody>\n",
       "</table>\n",
       "</div>"
      ],
      "text/plain": [
       "        City Country Max Temperature Humidity (%) Cloudiness (%)  \\\n",
       "0  taolanaro      MG                                               \n",
       "1    ushuaia      AR                                               \n",
       "2     bethel      US                                               \n",
       "3   freeport      US                                               \n",
       "4  cape town      ZA                                               \n",
       "\n",
       "  Wind Speed (MPH) Latitude Longitude  \n",
       "0                                      \n",
       "1                                      \n",
       "2                                      \n",
       "3                                      \n",
       "4                                      "
      ]
     },
     "execution_count": 3,
     "metadata": {},
     "output_type": "execute_result"
    }
   ],
   "source": [
    "city_weather = pd.DataFrame({\"City\":cities,\n",
    "                               \"Country\":countries,\n",
    "                               \"Max Temperature\":\"\",\n",
    "                               \"Humidity (%)\":\"\",\n",
    "                               \"Cloudiness (%)\":\"\",\n",
    "                               \"Wind Speed (MPH)\":\"\",\n",
    "                               \"Latitude\":\"\",\n",
    "                               \"Longitude\":\"\"})\n",
    "city_weather.head()"
   ]
  },
  {
   "cell_type": "markdown",
   "metadata": {},
   "source": [
    "### Perform API Calls\n",
    "* Perform a weather check on each city using a series of successive API calls.\n",
    "* Include a print log of each city as it'sbeing processed (with the city number and city name).\n"
   ]
  },
  {
   "cell_type": "code",
   "execution_count": 4,
   "metadata": {},
   "outputs": [
    {
     "name": "stdout",
     "output_type": "stream",
     "text": [
      "\n",
      "-----------------------------\n",
      "Beginning Data Retrieval\n",
      "-----------------------------\n",
      "City not found....Skipping............\n",
      "Processing Record 1 of Set 1 | Ushuaia\n",
      "Processing Record 2 of Set 1 | Bethel\n",
      "Processing Record 3 of Set 1 | Freeport\n",
      "Processing Record 4 of Set 1 | Cape Town\n",
      "Processing Record 5 of Set 1 | Shangrao\n",
      "Processing Record 6 of Set 1 | Punta Arenas\n",
      "Processing Record 7 of Set 1 | Pringsewu\n",
      "Processing Record 8 of Set 1 | Qaanaaq\n",
      "Processing Record 9 of Set 1 | Longyearbyen\n",
      "Processing Record 10 of Set 1 | Bani Walid\n",
      "City not found....Skipping............\n",
      "Processing Record 11 of Set 1 | Atar\n",
      "Processing Record 12 of Set 1 | Albany\n",
      "Processing Record 13 of Set 1 | Ouésso\n",
      "Processing Record 14 of Set 1 | Hobart\n",
      "City not found....Skipping............\n",
      "Processing Record 15 of Set 1 | Torbay\n",
      "Processing Record 16 of Set 1 | Barrow\n",
      "Processing Record 17 of Set 1 | Ubinskoye\n",
      "Processing Record 18 of Set 1 | Rikitea\n",
      "Processing Record 19 of Set 1 | Saint George\n",
      "Processing Record 20 of Set 1 | Dutlwe\n",
      "City not found....Skipping............\n",
      "Processing Record 21 of Set 1 | Katima Mulilo\n",
      "Processing Record 22 of Set 1 | Butaritari\n",
      "Processing Record 23 of Set 1 | Eyl\n",
      "Processing Record 24 of Set 1 | Puerto Ayora\n",
      "Processing Record 25 of Set 1 | Lüderitz\n",
      "Processing Record 26 of Set 1 | Flinders\n",
      "Processing Record 27 of Set 1 | Bluff\n",
      "Processing Record 28 of Set 1 | Mar del Plata\n",
      "Processing Record 29 of Set 1 | Avarua\n",
      "Processing Record 30 of Set 1 | Port Alfred\n",
      "City not found....Skipping............\n",
      "Processing Record 31 of Set 1 | Nikolskoye\n",
      "Processing Record 32 of Set 1 | Lorengau\n",
      "Processing Record 33 of Set 1 | Hermanus\n",
      "Processing Record 34 of Set 1 | Dikson\n",
      "Processing Record 35 of Set 1 | Qasigiannguit\n",
      "Processing Record 36 of Set 1 | Winsum\n",
      "Processing Record 37 of Set 1 | Nicoya\n",
      "Processing Record 38 of Set 1 | Soe\n",
      "Processing Record 39 of Set 1 | Souillac\n",
      "Processing Record 40 of Set 1 | Hilo\n",
      "Processing Record 41 of Set 1 | Road Town\n",
      "Processing Record 42 of Set 1 | Mahajanga\n",
      "Processing Record 43 of Set 1 | Tasiilaq\n",
      "Processing Record 44 of Set 1 | Atuona\n",
      "Processing Record 45 of Set 1 | Georgetown\n",
      "Processing Record 46 of Set 1 | Katsina\n",
      "City not found....Skipping............\n",
      "Processing Record 47 of Set 1 | São Filipe\n",
      "Processing Record 48 of Set 1 | Kapaa\n",
      "Processing Record 49 of Set 1 | Hithadhoo\n",
      "City not found....Skipping............\n",
      "Processing Record 50 of Set 1 | Busselton\n",
      "Processing Record 1 of Set 2 | Wa\n",
      "Processing Record 2 of Set 2 | Bredasdorp\n",
      "Processing Record 3 of Set 2 | Manama\n",
      "Processing Record 4 of Set 2 | Ust-Nera\n",
      "Processing Record 5 of Set 2 | Tutóia\n",
      "Processing Record 6 of Set 2 | Mâncio Lima\n",
      "Processing Record 7 of Set 2 | Moses Lake\n",
      "Processing Record 8 of Set 2 | Zeya\n",
      "Processing Record 9 of Set 2 | Mahébourg\n",
      "Processing Record 10 of Set 2 | Kununurra\n",
      "Processing Record 11 of Set 2 | Geraldton\n",
      "Processing Record 12 of Set 2 | Jamestown\n",
      "Processing Record 13 of Set 2 | Puerto Rico\n",
      "Processing Record 14 of Set 2 | Arraial do Cabo\n",
      "Processing Record 15 of Set 2 | Kjøpsvik\n",
      "Processing Record 16 of Set 2 | Kijang\n",
      "Processing Record 17 of Set 2 | Khatanga\n",
      "Processing Record 18 of Set 2 | Zhigansk\n",
      "Processing Record 19 of Set 2 | Río Gallegos\n",
      "Processing Record 20 of Set 2 | Katsuura\n",
      "Processing Record 21 of Set 2 | Sitka\n",
      "Processing Record 22 of Set 2 | Irapuato\n",
      "Processing Record 23 of Set 2 | Caravelas\n",
      "Processing Record 24 of Set 2 | Santa Marta\n",
      "Processing Record 25 of Set 2 | Antalaha\n",
      "Processing Record 26 of Set 2 | Turukhansk\n",
      "City not found....Skipping............\n",
      "Processing Record 27 of Set 2 | Dunedin\n",
      "Processing Record 28 of Set 2 | Lac du Bonnet\n",
      "Processing Record 29 of Set 2 | Vaini\n",
      "Processing Record 30 of Set 2 | Fortuna\n",
      "Processing Record 31 of Set 2 | Lebu\n",
      "City not found....Skipping............\n",
      "Processing Record 32 of Set 2 | Cidreira\n",
      "Processing Record 33 of Set 2 | Makakilo City\n",
      "Processing Record 34 of Set 2 | Upernavik\n",
      "Processing Record 35 of Set 2 | Saint-Philippe\n",
      "Processing Record 36 of Set 2 | Chokurdakh\n",
      "Processing Record 37 of Set 2 | Jatiroto\n",
      "Processing Record 38 of Set 2 | Fairbanks\n",
      "Processing Record 39 of Set 2 | Najrān\n",
      "Processing Record 40 of Set 2 | Carnarvon\n",
      "Processing Record 41 of Set 2 | New Norfolk\n",
      "Processing Record 42 of Set 2 | Esperance\n",
      "City not found....Skipping............\n",
      "City not found....Skipping............\n",
      "Processing Record 43 of Set 2 | Vanimo\n",
      "Processing Record 44 of Set 2 | Calama\n",
      "Processing Record 45 of Set 2 | Westport\n",
      "Processing Record 46 of Set 2 | Grindavik\n",
      "Processing Record 47 of Set 2 | Touros\n",
      "Processing Record 48 of Set 2 | Paamiut\n",
      "Processing Record 49 of Set 2 | Pisco\n",
      "City not found....Skipping............\n",
      "Processing Record 50 of Set 2 | Øksfjord\n",
      "Processing Record 1 of Set 3 | Saskylakh\n",
      "Processing Record 2 of Set 3 | Saint Paul Harbor\n",
      "Processing Record 3 of Set 3 | Huilong\n",
      "Processing Record 4 of Set 3 | Kahului\n",
      "City not found....Skipping............\n",
      "Processing Record 5 of Set 3 | Bathsheba\n",
      "Processing Record 6 of Set 3 | Faanui\n",
      "City not found....Skipping............\n",
      "Processing Record 7 of Set 3 | Saint-Georges\n",
      "City not found....Skipping............\n",
      "Processing Record 8 of Set 3 | Komsomol'skiy\n",
      "Processing Record 9 of Set 3 | Te Anau\n",
      "Processing Record 10 of Set 3 | Jiexiu\n",
      "Processing Record 11 of Set 3 | Mandalgovi\n",
      "City not found....Skipping............\n",
      "Processing Record 12 of Set 3 | Richards Bay\n",
      "Processing Record 13 of Set 3 | Coquimbo\n",
      "Processing Record 14 of Set 3 | El Calvario\n",
      "Processing Record 15 of Set 3 | Conde\n",
      "Processing Record 16 of Set 3 | Anadyr\n",
      "Processing Record 17 of Set 3 | Tuktoyaktuk\n",
      "Processing Record 18 of Set 3 | Ca Mau\n",
      "Processing Record 19 of Set 3 | Arauca\n",
      "Processing Record 20 of Set 3 | Narsaq\n",
      "Processing Record 21 of Set 3 | Gisborne\n",
      "Processing Record 22 of Set 3 | Venado Tuerto\n",
      "Processing Record 23 of Set 3 | Ketchikan\n",
      "Processing Record 24 of Set 3 | Mīnāb\n",
      "Processing Record 25 of Set 3 | Mācherla\n",
      "Processing Record 26 of Set 3 | Tigil'\n",
      "Processing Record 27 of Set 3 | Srednekolymsk\n",
      "Processing Record 28 of Set 3 | Manado\n",
      "City not found....Skipping............\n",
      "Processing Record 29 of Set 3 | Shīeli\n",
      "Processing Record 30 of Set 3 | Burnie\n",
      "Processing Record 31 of Set 3 | Tuatapere\n",
      "Processing Record 32 of Set 3 | Yaransk\n",
      "Processing Record 33 of Set 3 | Solnechnyy\n",
      "Processing Record 34 of Set 3 | Port Elizabeth\n",
      "Processing Record 35 of Set 3 | Indi\n",
      "Processing Record 36 of Set 3 | Angoram\n",
      "City not found....Skipping............\n",
      "Processing Record 37 of Set 3 | Oistins\n",
      "Processing Record 38 of Set 3 | Berlevåg\n",
      "Processing Record 39 of Set 3 | Rio de Janeiro\n",
      "Processing Record 40 of Set 3 | Kedrovyy\n",
      "Processing Record 41 of Set 3 | Mlalo\n",
      "Processing Record 42 of Set 3 | Petropavlovsk-Kamchatskiy\n",
      "Processing Record 43 of Set 3 | Sulangan\n",
      "City not found....Skipping............\n",
      "Processing Record 44 of Set 3 | Paducah\n",
      "Processing Record 45 of Set 3 | Lakatoro\n",
      "Processing Record 46 of Set 3 | Tucupita\n",
      "Processing Record 47 of Set 3 | Clyde River\n",
      "Processing Record 48 of Set 3 | São Gabriel da Cachoeira\n",
      "Processing Record 49 of Set 3 | São João da Barra\n",
      "Processing Record 50 of Set 3 | Huarmey\n",
      "Processing Record 1 of Set 4 | Rāmgarh\n",
      "City not found....Skipping............\n",
      "Processing Record 2 of Set 4 | Safi\n",
      "Processing Record 3 of Set 4 | Iqaluit\n",
      "Processing Record 4 of Set 4 | Caniço\n",
      "Processing Record 5 of Set 4 | Belize\n",
      "Processing Record 6 of Set 4 | Senanga\n",
      "Processing Record 7 of Set 4 | Bambous Virieux\n",
      "Processing Record 8 of Set 4 | Moose Factory\n",
      "Processing Record 9 of Set 4 | Boende\n",
      "Processing Record 10 of Set 4 | Cabatuan\n",
      "Processing Record 11 of Set 4 | Aykino\n",
      "Processing Record 12 of Set 4 | Hofn\n",
      "Processing Record 13 of Set 4 | Buchanan\n",
      "Processing Record 14 of Set 4 | Kendari\n",
      "City not found....Skipping............\n",
      "City not found....Skipping............\n",
      "Processing Record 15 of Set 4 | Sinnamary\n",
      "Processing Record 16 of Set 4 | Bengkulu\n",
      "Processing Record 17 of Set 4 | Keetmanshoop\n",
      "Processing Record 18 of Set 4 | Champerico\n",
      "Processing Record 19 of Set 4 | Karasuk\n",
      "Processing Record 20 of Set 4 | Yellowknife\n",
      "Processing Record 21 of Set 4 | Hokitika\n",
      "Processing Record 22 of Set 4 | Talara\n",
      "Processing Record 23 of Set 4 | Port Lincoln\n",
      "Processing Record 24 of Set 4 | Ancud\n",
      "City not found....Skipping............\n",
      "Processing Record 25 of Set 4 | La Ronge\n"
     ]
    },
    {
     "name": "stdout",
     "output_type": "stream",
     "text": [
      "Processing Record 26 of Set 4 | Mount Gambier\n",
      "Processing Record 27 of Set 4 | Virginia Beach\n",
      "Processing Record 28 of Set 4 | Ribeira Grande\n",
      "Processing Record 29 of Set 4 | Cherskiy\n",
      "Processing Record 30 of Set 4 | Broken Hill\n",
      "Processing Record 31 of Set 4 | Taywarah\n",
      "Processing Record 32 of Set 4 | Kyzyl-Suu\n",
      "Processing Record 33 of Set 4 | Kavieng\n",
      "Processing Record 34 of Set 4 | Balabac\n",
      "Processing Record 35 of Set 4 | Znamenskoye\n",
      "Processing Record 36 of Set 4 | Black River\n",
      "Processing Record 37 of Set 4 | Erzin\n",
      "Processing Record 38 of Set 4 | Monte Santo de Minas\n",
      "Processing Record 39 of Set 4 | Zhezkazgan\n",
      "Processing Record 40 of Set 4 | Victoria\n",
      "Processing Record 41 of Set 4 | Coolum Beach\n",
      "Processing Record 42 of Set 4 | Castro\n",
      "City not found....Skipping............\n",
      "City not found....Skipping............\n",
      "Processing Record 43 of Set 4 | Nyurba\n",
      "Processing Record 44 of Set 4 | Yulara\n",
      "Processing Record 45 of Set 4 | Maţāy\n",
      "Processing Record 46 of Set 4 | The Valley\n",
      "Processing Record 47 of Set 4 | Sayyan\n",
      "Processing Record 48 of Set 4 | Talnakh\n",
      "Processing Record 49 of Set 4 | Beringovskiy\n",
      "Processing Record 50 of Set 4 | Thompson\n",
      "Processing Record 1 of Set 5 | Half Moon Bay\n",
      "Processing Record 2 of Set 5 | Safford\n",
      "Processing Record 3 of Set 5 | Henties Bay\n",
      "City not found....Skipping............\n",
      "Processing Record 4 of Set 5 | Ilulissat\n",
      "Processing Record 5 of Set 5 | San Ramón\n",
      "Processing Record 6 of Set 5 | Malé\n",
      "City not found....Skipping............\n",
      "Processing Record 7 of Set 5 | Flin Flon\n",
      "Processing Record 8 of Set 5 | Nalgonda\n",
      "Processing Record 9 of Set 5 | Severo-Kuril'sk\n",
      "Processing Record 10 of Set 5 | Port-Gentil\n",
      "Processing Record 11 of Set 5 | Lumberton\n",
      "Processing Record 12 of Set 5 | Indiaroba\n",
      "City not found....Skipping............\n",
      "Processing Record 13 of Set 5 | Karratha\n",
      "City not found....Skipping............\n",
      "Processing Record 14 of Set 5 | Ramsar\n",
      "Processing Record 15 of Set 5 | Trivandrum\n",
      "Processing Record 16 of Set 5 | Olafsvik\n",
      "Processing Record 17 of Set 5 | College\n",
      "City not found....Skipping............\n",
      "Processing Record 18 of Set 5 | Nizhniy Chir\n",
      "Processing Record 19 of Set 5 | Masiga\n",
      "Processing Record 20 of Set 5 | Chui\n",
      "City not found....Skipping............\n",
      "Processing Record 21 of Set 5 | Garissa\n",
      "Processing Record 22 of Set 5 | Harlingen\n",
      "Processing Record 23 of Set 5 | Omboué\n",
      "Processing Record 24 of Set 5 | Visnes\n",
      "Processing Record 25 of Set 5 | Cabo San Lucas\n",
      "Processing Record 26 of Set 5 | Wajima\n",
      "Processing Record 27 of Set 5 | Jalu\n",
      "Processing Record 28 of Set 5 | Rūdsar\n",
      "Processing Record 29 of Set 5 | Darnah\n",
      "Processing Record 30 of Set 5 | Astoria\n",
      "Processing Record 31 of Set 5 | Hasaki\n",
      "Processing Record 32 of Set 5 | Nemuro\n",
      "Processing Record 33 of Set 5 | Nantucket\n",
      "Processing Record 34 of Set 5 | Solano\n",
      "Processing Record 35 of Set 5 | Port Blair\n",
      "Processing Record 36 of Set 5 | Santa Cruz\n",
      "Processing Record 37 of Set 5 | Provideniya\n",
      "City not found....Skipping............\n",
      "Processing Record 38 of Set 5 | Awjilah\n",
      "Processing Record 39 of Set 5 | Kytmanovo\n",
      "Processing Record 40 of Set 5 | Pontianak\n",
      "Processing Record 41 of Set 5 | West Fargo\n",
      "Processing Record 42 of Set 5 | Dubbo\n",
      "Processing Record 43 of Set 5 | Mīzan Teferī\n",
      "Processing Record 44 of Set 5 | Evensk\n",
      "Processing Record 45 of Set 5 | Kosh-Agach\n",
      "Processing Record 46 of Set 5 | Norman Wells\n",
      "Processing Record 47 of Set 5 | Grand Gaube\n",
      "Processing Record 48 of Set 5 | Pacific Grove\n",
      "Processing Record 49 of Set 5 | Narok\n",
      "Processing Record 50 of Set 5 | Sørland\n",
      "Processing Record 1 of Set 6 | Tomatlán\n",
      "Processing Record 2 of Set 6 | Guerrero Negro\n",
      "Processing Record 3 of Set 6 | Havelock\n",
      "City not found....Skipping............\n",
      "City not found....Skipping............\n",
      "Processing Record 4 of Set 6 | Aktau\n",
      "Processing Record 5 of Set 6 | Itarema\n",
      "Processing Record 6 of Set 6 | Mnogovershinnyy\n",
      "Processing Record 7 of Set 6 | Kaitangata\n",
      "Processing Record 8 of Set 6 | Mersing\n",
      "Processing Record 9 of Set 6 | Katherine\n",
      "Processing Record 10 of Set 6 | Nago\n",
      "Processing Record 11 of Set 6 | Saldanha\n",
      "Processing Record 12 of Set 6 | Casas Grandes\n",
      "Processing Record 13 of Set 6 | Bonthe\n",
      "Processing Record 14 of Set 6 | Uyskoye\n",
      "City not found....Skipping............\n",
      "Processing Record 15 of Set 6 | Rocha\n",
      "Processing Record 16 of Set 6 | Santa Teresa\n",
      "Processing Record 17 of Set 6 | Kysyl-Syr\n",
      "Processing Record 18 of Set 6 | Assiniboia\n",
      "Processing Record 19 of Set 6 | Matamoros\n",
      "Processing Record 20 of Set 6 | Miandrivazo\n",
      "Processing Record 21 of Set 6 | Port Hardy\n",
      "Processing Record 22 of Set 6 | Poum\n",
      "Processing Record 23 of Set 6 | Bushenyi\n",
      "Processing Record 24 of Set 6 | Ust-Tsilma\n",
      "Processing Record 25 of Set 6 | Okha\n",
      "Processing Record 26 of Set 6 | Delta del Tigre\n",
      "Processing Record 27 of Set 6 | Oranjemund\n",
      "City not found....Skipping............\n",
      "Processing Record 28 of Set 6 | Elbistan\n",
      "Processing Record 29 of Set 6 | Mapiripán\n",
      "Processing Record 30 of Set 6 | Harindānga\n",
      "Processing Record 31 of Set 6 | Skjervøy\n",
      "Processing Record 32 of Set 6 | Taltal\n",
      "Processing Record 33 of Set 6 | Andra\n",
      "Processing Record 34 of Set 6 | Oddur\n",
      "Processing Record 35 of Set 6 | Camacha\n",
      "City not found....Skipping............\n",
      "Processing Record 36 of Set 6 | Ponta Delgada\n",
      "Processing Record 37 of Set 6 | Ushtobe\n",
      "Processing Record 38 of Set 6 | Bubaque\n",
      "Processing Record 39 of Set 6 | Aqsū\n",
      "Processing Record 40 of Set 6 | Zyryanka\n",
      "Processing Record 41 of Set 6 | Wé\n",
      "City not found....Skipping............\n",
      "Processing Record 42 of Set 6 | Padang\n",
      "Processing Record 43 of Set 6 | Merauke\n",
      "Processing Record 44 of Set 6 | Meulaboh\n",
      "Processing Record 45 of Set 6 | Nizhniy Tsasuchey\n",
      "Processing Record 46 of Set 6 | Ahipara\n",
      "Processing Record 47 of Set 6 | Nome\n",
      "Processing Record 48 of Set 6 | Prado\n",
      "Processing Record 49 of Set 6 | Taoudenni\n",
      "Processing Record 50 of Set 6 | Andenes\n",
      "Processing Record 1 of Set 7 | East London\n",
      "Processing Record 2 of Set 7 | Anloga\n",
      "Processing Record 3 of Set 7 | Grand-Lahou\n",
      "Processing Record 4 of Set 7 | Kavaratti\n",
      "Processing Record 5 of Set 7 | Kodinsk\n",
      "Processing Record 6 of Set 7 | Kati\n",
      "Processing Record 7 of Set 7 | Husavik\n",
      "City not found....Skipping............\n",
      "Processing Record 8 of Set 7 | Valdosta\n",
      "Processing Record 9 of Set 7 | Meru\n",
      "Processing Record 10 of Set 7 | Sorong\n",
      "City not found....Skipping............\n",
      "Processing Record 11 of Set 7 | Nanortalik\n",
      "Processing Record 12 of Set 7 | Saint-Joseph\n",
      "Processing Record 13 of Set 7 | Thinadhoo\n",
      "Processing Record 14 of Set 7 | San Patricio\n",
      "Processing Record 15 of Set 7 | Mayāng Imphāl\n",
      "Processing Record 16 of Set 7 | Naryan-Mar\n",
      "City not found....Skipping............\n",
      "Processing Record 17 of Set 7 | Coyhaique\n",
      "Processing Record 18 of Set 7 | Sal Rei\n",
      "Processing Record 19 of Set 7 | Celestún\n",
      "Processing Record 20 of Set 7 | Longford\n",
      "Processing Record 21 of Set 7 | Saint-Augustin\n",
      "Processing Record 22 of Set 7 | Klaksvík\n",
      "Processing Record 23 of Set 7 | Puerto Escondido\n",
      "Processing Record 24 of Set 7 | Nakhon Nayok\n",
      "Processing Record 25 of Set 7 | Abilene\n",
      "Processing Record 26 of Set 7 | Hualmay\n",
      "Processing Record 27 of Set 7 | Bonanza\n",
      "Processing Record 28 of Set 7 | Manacapuru\n",
      "Processing Record 29 of Set 7 | Kasongo-Lunda\n",
      "Processing Record 30 of Set 7 | Sidrolândia\n",
      "Processing Record 31 of Set 7 | Esim\n",
      "Processing Record 32 of Set 7 | Nsoko\n",
      "Processing Record 33 of Set 7 | Teya\n",
      "City not found....Skipping............\n",
      "Processing Record 34 of Set 7 | Lundazi\n",
      "City not found....Skipping............\n",
      "Processing Record 35 of Set 7 | Chute-aux-Outardes\n",
      "City not found....Skipping............\n",
      "Processing Record 36 of Set 7 | Mossamedes\n",
      "Processing Record 37 of Set 7 | Lavrentiya\n",
      "Processing Record 38 of Set 7 | Cabedelo\n",
      "City not found....Skipping............\n",
      "Processing Record 39 of Set 7 | Les Cayes\n",
      "Processing Record 40 of Set 7 | Matinhos\n",
      "Processing Record 41 of Set 7 | George\n",
      "Processing Record 42 of Set 7 | Kautokeino\n",
      "Processing Record 43 of Set 7 | Isangel\n",
      "Processing Record 44 of Set 7 | Adrar\n",
      "Processing Record 45 of Set 7 | San Pedro de Macorís\n",
      "Processing Record 46 of Set 7 | Naze\n",
      "Processing Record 47 of Set 7 | Chalatenango\n",
      "Processing Record 48 of Set 7 | Coahuayana Viejo\n",
      "Processing Record 49 of Set 7 | Achim\n",
      "City not found....Skipping............\n",
      "Processing Record 50 of Set 7 | Bariloche\n",
      "City not found....Skipping............\n",
      "Processing Record 1 of Set 8 | Vostok\n"
     ]
    },
    {
     "name": "stdout",
     "output_type": "stream",
     "text": [
      "Processing Record 2 of Set 8 | Jaqué\n",
      "Processing Record 3 of Set 8 | Ozinki\n",
      "Processing Record 4 of Set 8 | Miyako\n",
      "Processing Record 5 of Set 8 | Bilibino\n",
      "Processing Record 6 of Set 8 | Ulladulla\n",
      "Processing Record 7 of Set 8 | Alyangula\n",
      "City not found....Skipping............\n",
      "City not found....Skipping............\n",
      "City not found....Skipping............\n",
      "Processing Record 8 of Set 8 | Jaguarão\n",
      "Processing Record 9 of Set 8 | Vilyuysk\n",
      "Processing Record 10 of Set 8 | Ajdabiya\n",
      "Processing Record 11 of Set 8 | Prince George\n",
      "Processing Record 12 of Set 8 | Mehamn\n",
      "Processing Record 13 of Set 8 | Oranjestad\n",
      "Processing Record 14 of Set 8 | Dudinka\n",
      "Processing Record 15 of Set 8 | Acaraú\n",
      "Processing Record 16 of Set 8 | Lagoa\n",
      "Processing Record 17 of Set 8 | Gornopravdinsk\n",
      "Processing Record 18 of Set 8 | Byron Bay\n",
      "Processing Record 19 of Set 8 | Erenhot\n",
      "Processing Record 20 of Set 8 | Corn Island\n",
      "Processing Record 21 of Set 8 | Korla\n",
      "Processing Record 22 of Set 8 | Gemena\n",
      "Processing Record 23 of Set 8 | Nālūt\n",
      "Processing Record 24 of Set 8 | Campbell River\n",
      "Processing Record 25 of Set 8 | Lodwar\n",
      "Processing Record 26 of Set 8 | Sungai Raya\n",
      "Processing Record 27 of Set 8 | Vila Velha\n",
      "Processing Record 28 of Set 8 | Eloy\n",
      "Processing Record 29 of Set 8 | Beşikdüzü\n",
      "City not found....Skipping............\n",
      "Processing Record 30 of Set 8 | Hrymayliv\n",
      "Processing Record 31 of Set 8 | Abalak\n",
      "Processing Record 32 of Set 8 | Maningrida\n",
      "Processing Record 33 of Set 8 | Hobyo\n",
      "City not found....Skipping............\n",
      "City not found....Skipping............\n",
      "Processing Record 34 of Set 8 | Rolla\n",
      "Processing Record 35 of Set 8 | Soyo\n",
      "Processing Record 36 of Set 8 | County Wicklow\n",
      "Processing Record 37 of Set 8 | Dukat\n",
      "Processing Record 38 of Set 8 | Hambantota\n",
      "Processing Record 39 of Set 8 | Opuwo\n",
      "Processing Record 40 of Set 8 | Vung Tau\n",
      "Processing Record 41 of Set 8 | Curanilahue\n",
      "Processing Record 42 of Set 8 | Bukama\n",
      "Processing Record 43 of Set 8 | Merowe\n",
      "Processing Record 44 of Set 8 | Waipawa\n",
      "Processing Record 45 of Set 8 | Carangola\n",
      "Processing Record 46 of Set 8 | Dingzhou\n",
      "Processing Record 47 of Set 8 | Kunming\n",
      "Processing Record 48 of Set 8 | Nizhniy Kuranakh\n",
      "Processing Record 49 of Set 8 | Ostrovnoy\n",
      "Processing Record 50 of Set 8 | Khandyga\n",
      "Processing Record 1 of Set 9 | Nushki\n",
      "Processing Record 2 of Set 9 | Hare Bay\n",
      "Processing Record 3 of Set 9 | Krasnosel'kup\n",
      "Processing Record 4 of Set 9 | Nepānagar\n",
      "Processing Record 5 of Set 9 | Peniche\n",
      "Processing Record 6 of Set 9 | Sola\n",
      "Processing Record 7 of Set 9 | Villaviciosa\n",
      "Processing Record 8 of Set 9 | Mareeba\n",
      "Processing Record 9 of Set 9 | Sarangani\n",
      "Processing Record 10 of Set 9 | Plouzané\n",
      "City not found....Skipping............\n",
      "Processing Record 11 of Set 9 | Sierra Vista\n",
      "Processing Record 12 of Set 9 | Rio Grande\n",
      "Processing Record 13 of Set 9 | Eyemouth\n",
      "Processing Record 14 of Set 9 | Tiksi\n",
      "Processing Record 15 of Set 9 | Walvis Bay\n",
      "Processing Record 16 of Set 9 | Erdenet\n",
      "Processing Record 17 of Set 9 | Lakes Entrance\n",
      "Processing Record 18 of Set 9 | Roald\n",
      "Processing Record 19 of Set 9 | Havre-St-Pierre\n",
      "Processing Record 20 of Set 9 | Fort Nelson\n",
      "Processing Record 21 of Set 9 | Vardø\n",
      "Processing Record 22 of Set 9 | Pangnirtung\n",
      "Processing Record 23 of Set 9 | San Quintín\n",
      "Processing Record 24 of Set 9 | Port Moresby\n",
      "City not found....Skipping............\n",
      "Processing Record 25 of Set 9 | San José\n",
      "Processing Record 26 of Set 9 | Barra de Tecoanapa\n",
      "City not found....Skipping............\n",
      "Processing Record 27 of Set 9 | Scottsbluff\n",
      "Processing Record 28 of Set 9 | Tungor\n",
      "Processing Record 29 of Set 9 | Strezhevoy\n",
      "Processing Record 30 of Set 9 | Pangai\n",
      "Processing Record 31 of Set 9 | Xingyi\n",
      "Processing Record 32 of Set 9 | Pelagiada\n",
      "Processing Record 33 of Set 9 | Azuaga\n",
      "Processing Record 34 of Set 9 | Yangambi\n",
      "Processing Record 35 of Set 9 | Khovd\n",
      "Processing Record 36 of Set 9 | Skovorodino\n",
      "Processing Record 37 of Set 9 | Turbat\n",
      "Processing Record 38 of Set 9 | Pevek\n",
      "City not found....Skipping............\n",
      "Processing Record 39 of Set 9 | Tual\n",
      "Processing Record 40 of Set 9 | Novo Aripuanã\n",
      "Processing Record 41 of Set 9 | Chengannūr\n",
      "Processing Record 42 of Set 9 | Kruisfontein\n",
      "City not found....Skipping............\n",
      "Processing Record 43 of Set 9 | Noumea\n",
      "Processing Record 44 of Set 9 | Yar-Sale\n",
      "Processing Record 45 of Set 9 | Biak\n",
      "Processing Record 46 of Set 9 | Amboasary\n",
      "Processing Record 47 of Set 9 | Amapá\n",
      "Processing Record 48 of Set 9 | Inuvik\n",
      "Processing Record 49 of Set 9 | Derzhavīnsk\n",
      "Processing Record 50 of Set 9 | Salinópolis\n",
      "Processing Record 1 of Set 10 | Ponta do Sol\n",
      "Processing Record 2 of Set 10 | Tilichiki\n",
      "Processing Record 3 of Set 10 | Boa Esperança\n",
      "City not found....Skipping............\n",
      "Processing Record 4 of Set 10 | Tazmalt\n",
      "Processing Record 5 of Set 10 | Birnin Kebbi\n",
      "Processing Record 6 of Set 10 | Bandarbeyla\n",
      "Processing Record 7 of Set 10 | Dali\n",
      "Processing Record 8 of Set 10 | Tautira\n",
      "Processing Record 9 of Set 10 | Lompoc\n",
      "Processing Record 10 of Set 10 | Djibo\n",
      "Processing Record 11 of Set 10 | Santiago\n",
      "Processing Record 12 of Set 10 | Abbeville\n",
      "Processing Record 13 of Set 10 | Luganville\n",
      "Processing Record 14 of Set 10 | Bodden Town\n",
      "Processing Record 15 of Set 10 | Udachny\n",
      "Processing Record 16 of Set 10 | Foumbot\n",
      "Processing Record 17 of Set 10 | Novoagansk\n",
      "Processing Record 18 of Set 10 | Tanabe\n",
      "Processing Record 19 of Set 10 | Salalah\n",
      "Processing Record 20 of Set 10 | Ha Tinh\n",
      "Processing Record 21 of Set 10 | Ghanzi\n",
      "Processing Record 22 of Set 10 | Vestmannaeyjar\n",
      "Processing Record 23 of Set 10 | Santa Inês\n",
      "Processing Record 24 of Set 10 | Mutum\n",
      "Processing Record 25 of Set 10 | Rawson\n",
      "Processing Record 26 of Set 10 | Promyshlennaya\n",
      "Processing Record 27 of Set 10 | Nishihara\n",
      "City not found....Skipping............\n",
      "Processing Record 28 of Set 10 | Wasilla\n",
      "City not found....Skipping............\n",
      "City not found....Skipping............\n",
      "Processing Record 29 of Set 10 | Rundu\n",
      "Processing Record 30 of Set 10 | Eutin\n",
      "Processing Record 31 of Set 10 | Hanko\n",
      "Processing Record 32 of Set 10 | Tafresh\n",
      "Processing Record 33 of Set 10 | Tongliao\n",
      "Processing Record 34 of Set 10 | Dabakala\n",
      "Processing Record 35 of Set 10 | Constitucion\n",
      "Processing Record 36 of Set 10 | Porto Murtinho\n",
      "Processing Record 37 of Set 10 | Kasongo\n",
      "Processing Record 38 of Set 10 | Bosaso\n",
      "Processing Record 39 of Set 10 | Margate\n",
      "Processing Record 40 of Set 10 | Shimoda\n",
      "Processing Record 41 of Set 10 | Aprelevka\n",
      "Processing Record 42 of Set 10 | Yushu\n",
      "Processing Record 43 of Set 10 | La Rioja\n",
      "Processing Record 44 of Set 10 | Koumac\n",
      "Processing Record 45 of Set 10 | Akdepe\n",
      "Processing Record 46 of Set 10 | Kirakira\n",
      "City not found....Skipping............\n",
      "Processing Record 47 of Set 10 | Acapulco de Juárez\n",
      "Processing Record 48 of Set 10 | Sonqor\n",
      "Processing Record 49 of Set 10 | Buala\n",
      "Processing Record 50 of Set 10 | San Fernando del Valle de Catamarca\n",
      "Processing Record 1 of Set 11 | Sergeevka\n",
      "Processing Record 2 of Set 11 | Verkhoyansk\n",
      "Processing Record 3 of Set 11 | Contai\n",
      "Processing Record 4 of Set 11 | San Cristobal\n",
      "Processing Record 5 of Set 11 | Eskişehir\n",
      "Processing Record 6 of Set 11 | Charlestown\n",
      "Processing Record 7 of Set 11 | Boueni\n",
      "Processing Record 8 of Set 11 | South Lake Tahoe\n",
      "Processing Record 9 of Set 11 | Sühbaatar\n",
      "Processing Record 10 of Set 11 | Saltillo\n",
      "Processing Record 11 of Set 11 | Takaka\n",
      "Processing Record 12 of Set 11 | Tairua\n",
      "Processing Record 13 of Set 11 | Bāfq\n",
      "Processing Record 14 of Set 11 | Arlit\n",
      "Processing Record 15 of Set 11 | Dossor\n",
      "Processing Record 16 of Set 11 | Muyezerskiy\n",
      "Processing Record 17 of Set 11 | Yumen\n",
      "Processing Record 18 of Set 11 | Mergen\n",
      "Processing Record 19 of Set 11 | Christchurch\n",
      "Processing Record 20 of Set 11 | Bandar-e Lengeh\n",
      "Processing Record 21 of Set 11 | Cocorit\n",
      "Processing Record 22 of Set 11 | Mao\n",
      "Processing Record 23 of Set 11 | Montes Altos\n",
      "Processing Record 24 of Set 11 | Barreirinhas\n",
      "Processing Record 25 of Set 11 | Nchelenge\n",
      "Processing Record 26 of Set 11 | Guaymas\n",
      "Processing Record 27 of Set 11 | Gamba\n",
      "Processing Record 28 of Set 11 | Kelso\n",
      "Processing Record 29 of Set 11 | Angoche\n",
      "Processing Record 30 of Set 11 | Léo\n",
      "Processing Record 31 of Set 11 | Brainerd\n",
      "Processing Record 32 of Set 11 | Pochutla\n",
      "Processing Record 33 of Set 11 | Firminópolis\n",
      "Processing Record 34 of Set 11 | Cayon\n"
     ]
    },
    {
     "name": "stdout",
     "output_type": "stream",
     "text": [
      "City not found....Skipping............\n",
      "Processing Record 35 of Set 11 | Aklavik\n",
      "Processing Record 36 of Set 11 | Orotukan\n",
      "Processing Record 37 of Set 11 | Yong’an\n",
      "Processing Record 38 of Set 11 | Samfya\n",
      "Processing Record 39 of Set 11 | Porto Velho\n",
      "Processing Record 40 of Set 11 | Atambua\n",
      "City not found....Skipping............\n",
      "Processing Record 41 of Set 11 | Puerto Colombia\n",
      "Processing Record 42 of Set 11 | Namatanai\n",
      "Processing Record 43 of Set 11 | Potiskum\n",
      "City not found....Skipping............\n",
      "Processing Record 44 of Set 11 | Gbarnga\n",
      "Processing Record 45 of Set 11 | Ures\n",
      "Processing Record 46 of Set 11 | Haines Junction\n",
      "Processing Record 47 of Set 11 | Morant Bay\n",
      "Processing Record 48 of Set 11 | Pingliang\n",
      "Processing Record 49 of Set 11 | Tarko-Sale\n",
      "Processing Record 50 of Set 11 | Pitimbu\n",
      "\n",
      "-----------------------------\n",
      "Data Retrival Complete\n",
      "-----------------------------\n"
     ]
    }
   ],
   "source": [
    "#Variables to keep track of response number\n",
    "record_num = 1\n",
    "record_set = 1\n",
    "\n",
    "#Base url to make the api call\n",
    "base_url = 'http://api.openweathermap.org/data/2.5/weather?units=imperial&q='\n",
    "\n",
    "#Run the API call for each city\n",
    "print('''\n",
    "-----------------------------\n",
    "Beginning Data Retrieval\n",
    "-----------------------------''')\n",
    "for index, row in city_weather.iterrows(): \n",
    "    #Create the query url for the API call\n",
    "    query_url = base_url + row['City'] + ',' + row['Country'] + '&APPID=' + weather_api_key\n",
    "    \n",
    "    #API call\n",
    "    response = requests.get(query_url).json()\n",
    "    \n",
    "    #Exception script in case the city is not found by the API call\n",
    "    try: \n",
    "        #Meassage to alert the user that the data is being retrieved\n",
    "        print(f'Processing Record {record_num} of Set {record_set} | {response[\"name\"]}')\n",
    "        \n",
    "        #Input data into the dataframe\n",
    "        city_weather.loc[index, 'Cloudiness (%)'] = response['clouds']['all']\n",
    "        city_weather.loc[index, 'Humidity (%)'] = response['main']['humidity']\n",
    "        city_weather.loc[index, 'Latitude'] = response['coord']['lat']\n",
    "        city_weather.loc[index, 'Longitude'] = response['coord']['lon']\n",
    "        city_weather.loc[index, 'Max Temperature'] = response['main']['temp_max']\n",
    "        city_weather.loc[index, 'Wind Speed (MPH)'] = response['wind']['speed']\n",
    "        \n",
    "        #Increase the record count\n",
    "        record_num += 1\n",
    "        \n",
    "    except (KeyError, IndexError):\n",
    "        print(\"City not found....Skipping............\")\n",
    "    \n",
    "    #If statement to handle the API call limits\n",
    "    if record_num == 51:\n",
    "        record_set += 1\n",
    "        record_num = 1\n",
    "        time.sleep(5)\n",
    "        \n",
    "print('''\n",
    "-----------------------------\n",
    "Data Retrival Complete\n",
    "-----------------------------''')"
   ]
  },
  {
   "cell_type": "markdown",
   "metadata": {},
   "source": [
    "### Convert Raw Data to DataFrame\n",
    "* Export the city data into a .csv.\n",
    "* Display the DataFrame"
   ]
  },
  {
   "cell_type": "code",
   "execution_count": 5,
   "metadata": {},
   "outputs": [
    {
     "data": {
      "text/plain": [
       "City                550\n",
       "Country             550\n",
       "Max Temperature     550\n",
       "Humidity (%)        550\n",
       "Cloudiness (%)      550\n",
       "Wind Speed (MPH)    550\n",
       "Latitude            550\n",
       "Longitude           550\n",
       "dtype: int64"
      ]
     },
     "execution_count": 5,
     "metadata": {},
     "output_type": "execute_result"
    }
   ],
   "source": [
    "#Clean dataframe to remove cities that were not found\n",
    "city_weather['Max Temperature'] = city_weather['Max Temperature'].replace('', np.nan)\n",
    "city_weather = city_weather.dropna()\n",
    "\n",
    "#Save dataframe\n",
    "city_weather.to_csv(\"Output_Data/CityWeatherData.csv\", index=False, header=True)\n",
    "\n",
    "#Preview the dataframe\n",
    "city_weather.count()\n",
    "# city_weather.head()"
   ]
  },
  {
   "cell_type": "markdown",
   "metadata": {},
   "source": [
    "## Inspect the data and remove the cities where the humidity > 100%.\n",
    "----\n",
    "Skip this step if there are no cities that have humidity > 100%. "
   ]
  },
  {
   "cell_type": "code",
   "execution_count": 6,
   "metadata": {},
   "outputs": [
    {
     "data": {
      "text/html": [
       "<div>\n",
       "<style scoped>\n",
       "    .dataframe tbody tr th:only-of-type {\n",
       "        vertical-align: middle;\n",
       "    }\n",
       "\n",
       "    .dataframe tbody tr th {\n",
       "        vertical-align: top;\n",
       "    }\n",
       "\n",
       "    .dataframe thead th {\n",
       "        text-align: right;\n",
       "    }\n",
       "</style>\n",
       "<table border=\"1\" class=\"dataframe\">\n",
       "  <thead>\n",
       "    <tr style=\"text-align: right;\">\n",
       "      <th></th>\n",
       "      <th>City</th>\n",
       "      <th>Country</th>\n",
       "      <th>Max Temperature</th>\n",
       "      <th>Humidity (%)</th>\n",
       "      <th>Cloudiness (%)</th>\n",
       "      <th>Wind Speed (MPH)</th>\n",
       "      <th>Latitude</th>\n",
       "      <th>Longitude</th>\n",
       "    </tr>\n",
       "  </thead>\n",
       "  <tbody>\n",
       "  </tbody>\n",
       "</table>\n",
       "</div>"
      ],
      "text/plain": [
       "Empty DataFrame\n",
       "Columns: [City, Country, Max Temperature, Humidity (%), Cloudiness (%), Wind Speed (MPH), Latitude, Longitude]\n",
       "Index: []"
      ]
     },
     "execution_count": 6,
     "metadata": {},
     "output_type": "execute_result"
    }
   ],
   "source": [
    "over100humidity = city_weather.loc[(city_weather[\"Humidity (%)\"]>100),:]\n",
    "over100humidity"
   ]
  },
  {
   "cell_type": "markdown",
   "metadata": {},
   "source": [
    "## Plotting the Data\n",
    "* Use proper labeling of the plots using plot titles (including date of analysis) and axes labels.\n",
    "* Save the plotted figures as .pngs."
   ]
  },
  {
   "cell_type": "markdown",
   "metadata": {},
   "source": [
    "## Latitude vs. Temperature Plot"
   ]
  },
  {
   "cell_type": "code",
   "execution_count": 7,
   "metadata": {
    "scrolled": false
   },
   "outputs": [
    {
     "data": {
      "image/png": "[encoded data removed]",
      "text/plain": [
       "<Figure size 432x288 with 1 Axes>"
      ]
     },
     "metadata": {
      "needs_background": "light"
     },
     "output_type": "display_data"
    }
   ],
   "source": [
    "# Build a scatter plot for each data type\n",
    "plt.scatter(city_weather[\"Latitude\"], city_weather[\"Max Temperature\"], marker=\"o\")\n",
    "\n",
    "# Incorporate the other graph properties\n",
    "plt.title(f'City Latitude vs. Max Temperature {time.strftime(\"%m/%d/%Y\")}')\n",
    "plt.ylabel(\"Maximum Temperature (F)\")\n",
    "plt.xlabel(\"Latitude\")\n",
    "plt.grid(True)\n",
    "\n",
    "# Save the figure\n",
    "plt.savefig(\"Output_Data/city_latitude_maxtemp.png\")\n",
    "\n",
    "# Show plot\n",
    "plt.show()"
   ]
  },
  {
   "cell_type": "markdown",
   "metadata": {},
   "source": [
    "In this scatter plot each dot represents a temperature (y-axis) at a specific latitude (x-axis).  As can be seen, the northern hemisphere temperatures go down with latitude, as the latitude rises above the equator (0 on the x axis). The southern hemisphere temperatures go down with latitude, as the latitude falls below the equator (0 on the x axis).   "
   ]
  },
  {
   "cell_type": "markdown",
   "metadata": {},
   "source": [
    "## Latitude vs. Humidity Plot"
   ]
  },
  {
   "cell_type": "code",
   "execution_count": 8,
   "metadata": {},
   "outputs": [
    {
     "data": {
      "image/png": "[encoded data removed]",
      "text/plain": [
       "<Figure size 432x288 with 1 Axes>"
      ]
     },
     "metadata": {
      "needs_background": "light"
     },
     "output_type": "display_data"
    }
   ],
   "source": [
    "# Build a scatter plot for each data type\n",
    "plt.scatter(city_weather[\"Latitude\"], city_weather[\"Humidity (%)\"], marker=\"o\")\n",
    "\n",
    "# Incorporate the other graph properties\n",
    "plt.title(f'City Latitude vs. Humidity {time.strftime(\"%m/%d/%Y\")}')\n",
    "plt.ylabel(\"Humidity\")\n",
    "plt.xlabel(\"Latitude\")\n",
    "plt.grid(True)\n",
    "\n",
    "# Save the figure\n",
    "plt.savefig(\"Output_Data/city_latitude_hum.png\")\n",
    "\n",
    "# Show plot\n",
    "plt.show()"
   ]
  },
  {
   "cell_type": "markdown",
   "metadata": {},
   "source": [
    "In this scatter plot each dot represents humidity in percent (y-axis) at a specific latitude (x-axis). There does not appear to be a significant relationship between humidity and latitude.   "
   ]
  },
  {
   "cell_type": "markdown",
   "metadata": {},
   "source": [
    "## Latitude vs. Cloudiness Plot"
   ]
  },
  {
   "cell_type": "code",
   "execution_count": 9,
   "metadata": {},
   "outputs": [
    {
     "data": {
      "image/png": "[encoded data removed]",
      "text/plain": [
       "<Figure size 432x288 with 1 Axes>"
      ]
     },
     "metadata": {
      "needs_background": "light"
     },
     "output_type": "display_data"
    }
   ],
   "source": [
    "# Build a scatter plot for each data type\n",
    "plt.scatter(city_weather[\"Latitude\"], city_weather[\"Cloudiness (%)\"], marker=\"o\")\n",
    "\n",
    "# Incorporate the other graph properties\n",
    "plt.title(f'City Latitude vs. Max Cloudiness {time.strftime(\"%m/%d/%Y\")}')\n",
    "plt.ylabel(\"Cloudiness\")\n",
    "plt.xlabel(\"Latitude\")\n",
    "plt.grid(True)\n",
    "\n",
    "# Save the figure\n",
    "plt.savefig(\"Output_Data/city_latitude_cloud.png\")\n",
    "\n",
    "# Show plot\n",
    "plt.show()"
   ]
  },
  {
   "cell_type": "markdown",
   "metadata": {},
   "source": [
    "In this scatter plot each dot represents cloudiness in percent (y-axis) at a specific latitude (x-axis). There does not appear to be a significant relationship between cloudiness and latitude.   "
   ]
  },
  {
   "cell_type": "markdown",
   "metadata": {},
   "source": [
    "## Latitude vs. Wind Speed Plot"
   ]
  },
  {
   "cell_type": "code",
   "execution_count": 10,
   "metadata": {},
   "outputs": [
    {
     "data": {
      "image/png": "[encoded data removed]",
      "text/plain": [
       "<Figure size 432x288 with 1 Axes>"
      ]
     },
     "metadata": {
      "needs_background": "light"
     },
     "output_type": "display_data"
    }
   ],
   "source": [
    "# Build a scatter plot for each data type\n",
    "plt.scatter(city_weather[\"Latitude\"], city_weather[\"Wind Speed (MPH)\"], marker=\"o\")\n",
    "\n",
    "# Incorporate the other graph properties\n",
    "plt.title(f'City Latitude vs. Wind Speed {time.strftime(\"%m/%d/%Y\")}')\n",
    "plt.ylabel(\"Wind Speed\")\n",
    "plt.xlabel(\"Latitude\")\n",
    "plt.grid(True)\n",
    "\n",
    "# Save the figure\n",
    "plt.savefig(\"Output_Data/city_latitude_wind.png\")\n",
    "\n",
    "# Show plot\n",
    "plt.show()"
   ]
  },
  {
   "cell_type": "markdown",
   "metadata": {},
   "source": [
    "In this scatter plot each dot represents windspeed in mph (y-axis) at a specific latitude (x-axis). There does not appear to be a significant relationship between windspeed and latitude.   "
   ]
  },
  {
   "cell_type": "markdown",
   "metadata": {},
   "source": [
    "## Linear Regression"
   ]
  },
  {
   "cell_type": "code",
   "execution_count": 11,
   "metadata": {},
   "outputs": [],
   "source": [
    "# OPTIONAL: Create a function to create Linear Regression plots"
   ]
  },
  {
   "cell_type": "code",
   "execution_count": 12,
   "metadata": {},
   "outputs": [
    {
     "data": {
      "text/plain": [
       "City                 object\n",
       "Country              object\n",
       "Max Temperature     float64\n",
       "Humidity (%)         object\n",
       "Cloudiness (%)       object\n",
       "Wind Speed (MPH)     object\n",
       "Latitude            float64\n",
       "Longitude            object\n",
       "dtype: object"
      ]
     },
     "execution_count": 12,
     "metadata": {},
     "output_type": "execute_result"
    }
   ],
   "source": [
    "# Create Northern and Southern Hemisphere DataFrames\n",
    "\n",
    "north_hemisphere = city_weather.loc[city_weather[\"Latitude\"] > 0]\n",
    "south_hemisphere = city_weather.loc[city_weather[\"Latitude\"] < 0]\n",
    "\n",
    "# north_hemisphere.to_csv(\"output_data/northhem.csv\", index = False)\n",
    "# south_hemisphere.to_csv(\"output_data/southhem.csv\", index = False)\n",
    "\n",
    "south_hemisphere.astype({'Latitude': 'float'}).dtypes\n",
    "north_hemisphere.astype({'Latitude': 'float'}).dtypes\n"
   ]
  },
  {
   "cell_type": "markdown",
   "metadata": {},
   "source": [
    "####  Northern Hemisphere - Max Temp vs. Latitude Linear Regression"
   ]
  },
  {
   "cell_type": "code",
   "execution_count": 13,
   "metadata": {},
   "outputs": [],
   "source": [
    "# Hemisphere Variables\n",
    "\n",
    "nhtemp = north_hemisphere[\"Max Temperature\"]\n",
    "shtemp = south_hemisphere[\"Max Temperature\"]\n",
    "nhhum = north_hemisphere[\"Humidity (%)\"]\n",
    "shhum = south_hemisphere[\"Humidity (%)\"]\n",
    "nhcloud = north_hemisphere[\"Cloudiness (%)\"]\n",
    "shcloud = south_hemisphere[\"Cloudiness (%)\"]\n",
    "nhwind = north_hemisphere[\"Wind Speed (MPH)\"]\n",
    "shwind = south_hemisphere[\"Wind Speed (MPH)\"]\n",
    "nhlat = north_hemisphere[\"Latitude\"]\n",
    "shlat = south_hemisphere[\"Latitude\"]\n",
    "\n",
    "\n"
   ]
  },
  {
   "cell_type": "code",
   "execution_count": 14,
   "metadata": {
    "scrolled": true
   },
   "outputs": [
    {
     "name": "stdout",
     "output_type": "stream",
     "text": [
      "The r-squared of latitude and Max Temperature is 0.45704160831171825\n"
     ]
    },
    {
     "data": {
      "image/png": "[encoded data removed]",
      "text/plain": [
       "<Figure size 432x288 with 1 Axes>"
      ]
     },
     "metadata": {
      "needs_background": "light"
     },
     "output_type": "display_data"
    }
   ],
   "source": [
    "slope, intercept, rvalue, pvalue, stderr = linregress(nhlat.astype(float),nhtemp.astype(float))\n",
    "regress_values = slope * nhlat + intercept\n",
    "line_eq = \"y = \" + str(round(slope,2)) + \"x + \" + str(round(intercept,2))\n",
    "\n",
    "plt.scatter(nhlat,nhtemp)\n",
    "plt.plot(nhlat,regress_values)\n",
    "plt.annotate(line_eq,(16,35),fontsize=15,color=\"red\")\n",
    "plt.xlabel('Latitude')\n",
    "plt.ylabel('Max Temp F')\n",
    "plt.savefig(\"Output_Data/nhem_lat_temp.png\")\n",
    "\n",
    "print(\"The r-squared of latitude and Max Temperature is \" + str(rvalue**2))\n",
    "           "
   ]
  },
  {
   "cell_type": "markdown",
   "metadata": {},
   "source": [
    "In this scatter plot each dot represents max temperature in fahrenheit (y-axis) at a specific latitude in the northern hemisphere (x-axis is greater than 0). As latitude increases, max temperature decreases.  This is very logical as the sun is closest to the equator, and as the latitude moves away from the equator the temperature should get cooler. The r-squared value is 50%.  This shows that latitude can explain 46% of the variation in max temp.    "
   ]
  },
  {
   "cell_type": "markdown",
   "metadata": {},
   "source": [
    "####  Southern Hemisphere - Max Temp vs. Latitude Linear Regression"
   ]
  },
  {
   "cell_type": "code",
   "execution_count": 15,
   "metadata": {
    "scrolled": true
   },
   "outputs": [
    {
     "name": "stdout",
     "output_type": "stream",
     "text": [
      "The r-squared of latitude and Max Temperature is 0.6788231299091558\n"
     ]
    },
    {
     "data": {
      "image/png": "[encoded data removed]",
      "text/plain": [
       "<Figure size 432x288 with 1 Axes>"
      ]
     },
     "metadata": {
      "needs_background": "light"
     },
     "output_type": "display_data"
    }
   ],
   "source": [
    "slope, intercept, rvalue, pvalue, stderr = linregress(shlat.astype(float),shtemp.astype(float))\n",
    "regress_values = slope * shlat + intercept\n",
    "line_eq = \"y = \" + str(round(slope,2)) + \"x + \" + str(round(intercept,2))\n",
    "\n",
    "plt.scatter(shlat,shtemp)\n",
    "plt.plot(shlat,regress_values)\n",
    "plt.annotate(line_eq,(-45,35),fontsize=15,color=\"red\")\n",
    "plt.xlabel('Latitude')\n",
    "plt.ylabel('Max Temp F')\n",
    "plt.savefig(\"Output_Data/shem_lat_temp.png\")\n",
    "\n",
    "\n",
    "print(\"The r-squared of latitude and Max Temperature is \" + str(rvalue**2))\n",
    "           "
   ]
  },
  {
   "cell_type": "markdown",
   "metadata": {},
   "source": [
    "In this scatter plot each dot represents max temperature in fahrenheit (y-axis) at a specific latitude in the southern hemisphere (x-axis is less than 0). As latitude decreases, max temperature decreases.  This is very logical as the sun is closest to the equator, and as the latitude moves away from the equator the temperature should get cooler.  The r-squared value is 68%.  This shows that latitude can explain 68% of the variation in max temp.  "
   ]
  },
  {
   "cell_type": "markdown",
   "metadata": {},
   "source": [
    "####  Northern Hemisphere - Humidity (%) vs. Latitude Linear Regression"
   ]
  },
  {
   "cell_type": "code",
   "execution_count": 16,
   "metadata": {
    "scrolled": true
   },
   "outputs": [
    {
     "name": "stdout",
     "output_type": "stream",
     "text": [
      "The r-squared of latitude and humidity is 0.00027544215504373456\n"
     ]
    },
    {
     "data": {
      "image/png": "[encoded data removed]",
      "text/plain": [
       "<Figure size 432x288 with 1 Axes>"
      ]
     },
     "metadata": {
      "needs_background": "light"
     },
     "output_type": "display_data"
    }
   ],
   "source": [
    "slope, intercept, rvalue, pvalue, stderr = linregress(nhlat.astype(float),nhhum.astype(float))\n",
    "regress_values = slope * nhlat + intercept\n",
    "line_eq = \"y = \" + str(round(slope,2)) + \"x + \" + str(round(intercept,2))\n",
    "\n",
    "plt.scatter(nhlat,nhhum)\n",
    "plt.plot(nhlat,regress_values)\n",
    "plt.annotate(line_eq,(16,35),fontsize=15,color=\"red\")\n",
    "plt.xlabel('Latitude')\n",
    "plt.ylabel('Humidity %')\n",
    "plt.savefig(\"Output_Data/nhem_lat_hum.png\")\n",
    "\n",
    "print(\"The r-squared of latitude and humidity is \" + str(rvalue**2))"
   ]
  },
  {
   "cell_type": "markdown",
   "metadata": {},
   "source": [
    "In this scatter plot each dot represents humidity in percent (y-axis) at a specific latitude in the northern hemisphere (x-axis is greater than 0). There does not seem to be a significant relationship between humidity and latitude.  This is proven by the low r-squared value. "
   ]
  },
  {
   "cell_type": "markdown",
   "metadata": {},
   "source": [
    "####  Southern Hemisphere - Humidity (%) vs. Latitude Linear Regression"
   ]
  },
  {
   "cell_type": "code",
   "execution_count": 17,
   "metadata": {},
   "outputs": [
    {
     "name": "stdout",
     "output_type": "stream",
     "text": [
      "The r-squared of latitude and humidity is 0.013095080552988813\n"
     ]
    },
    {
     "data": {
      "image/png": "[encoded data removed]",
      "text/plain": [
       "<Figure size 432x288 with 1 Axes>"
      ]
     },
     "metadata": {
      "needs_background": "light"
     },
     "output_type": "display_data"
    }
   ],
   "source": [
    "slope, intercept, rvalue, pvalue, stderr = linregress(shlat.astype(float),shhum.astype(float))\n",
    "regress_values = slope * shlat + intercept\n",
    "line_eq = \"y = \" + str(round(slope,2)) + \"x + \" + str(round(intercept,2))\n",
    "\n",
    "plt.scatter(shlat,shhum)\n",
    "plt.plot(shlat,regress_values)\n",
    "plt.annotate(line_eq,(-45,35),fontsize=15,color=\"red\")\n",
    "plt.xlabel('Latitude')\n",
    "plt.ylabel('Humidity %')\n",
    "plt.savefig(\"Output_Data/shem_lat_hum.png\")\n",
    "\n",
    "\n",
    "print(\"The r-squared of latitude and humidity is \" + str(rvalue**2))"
   ]
  },
  {
   "cell_type": "markdown",
   "metadata": {},
   "source": [
    "In this scatter plot each dot represents humidity in percent (y-axis) at a specific latitude in the southern hemisphere (x-axis is less than 0). There does not seem to be a significant relationship between humidity and latitude.  This is proven by the low r-squared value. "
   ]
  },
  {
   "cell_type": "markdown",
   "metadata": {},
   "source": [
    "####  Northern Hemisphere - Cloudiness (%) vs. Latitude Linear Regression"
   ]
  },
  {
   "cell_type": "code",
   "execution_count": 18,
   "metadata": {},
   "outputs": [
    {
     "name": "stdout",
     "output_type": "stream",
     "text": [
      "The r-squared of latitude and cloud cover is 0.016281781646744785\n"
     ]
    },
    {
     "data": {
      "image/png": "[encoded data removed]",
      "text/plain": [
       "<Figure size 432x288 with 1 Axes>"
      ]
     },
     "metadata": {
      "needs_background": "light"
     },
     "output_type": "display_data"
    }
   ],
   "source": [
    "slope, intercept, rvalue, pvalue, stderr = linregress(nhlat.astype(float),nhcloud.astype(float))\n",
    "regress_values = slope * nhlat + intercept\n",
    "line_eq = \"y = \" + str(round(slope,2)) + \"x + \" + str(round(intercept,2))\n",
    "\n",
    "plt.scatter(nhlat,nhcloud)\n",
    "plt.plot(nhlat,regress_values)\n",
    "plt.annotate(line_eq,(10,10),fontsize=15,color=\"red\")\n",
    "plt.xlabel('Latitude')\n",
    "plt.ylabel('Cloud Cover %')\n",
    "plt.savefig(\"Output_Data/nhem_lat_cloud.png\")\n",
    "\n",
    "\n",
    "print(\"The r-squared of latitude and cloud cover is \" + str(rvalue**2))\n"
   ]
  },
  {
   "cell_type": "markdown",
   "metadata": {},
   "source": [
    "In this scatter plot each dot represents cloud cover in percent (y-axis) at a specific latitude in the northern hemisphere (x-axis is greater than 0). There does not seem to be a significant relationship between cloud cover and latitude.  This is proven by the low r-squared value. "
   ]
  },
  {
   "cell_type": "markdown",
   "metadata": {},
   "source": [
    "####  Southern Hemisphere - Cloudiness (%) vs. Latitude Linear Regression"
   ]
  },
  {
   "cell_type": "code",
   "execution_count": 19,
   "metadata": {},
   "outputs": [
    {
     "name": "stdout",
     "output_type": "stream",
     "text": [
      "The r-squared of latitude and cloud cover is 0.001590946715573546\n"
     ]
    },
    {
     "data": {
      "image/png": "[encoded data removed]",
      "text/plain": [
       "<Figure size 432x288 with 1 Axes>"
      ]
     },
     "metadata": {
      "needs_background": "light"
     },
     "output_type": "display_data"
    }
   ],
   "source": [
    "slope, intercept, rvalue, pvalue, stderr = linregress(shlat.astype(float),shcloud.astype(float))\n",
    "regress_values = slope * shlat + intercept\n",
    "line_eq = \"y = \" + str(round(slope,2)) + \"x + \" + str(round(intercept,2))\n",
    "\n",
    "plt.scatter(shlat,shcloud)\n",
    "plt.plot(shlat,regress_values)\n",
    "plt.annotate(line_eq,(-50,30),fontsize=15,color=\"red\")\n",
    "plt.xlabel('Latitude')\n",
    "plt.ylabel('Cloud Cover %')\n",
    "plt.savefig(\"Output_Data/shem_lat_cloud.png\")\n",
    "\n",
    "\n",
    "print(\"The r-squared of latitude and cloud cover is \" + str(rvalue**2))"
   ]
  },
  {
   "cell_type": "markdown",
   "metadata": {},
   "source": [
    "In this scatter plot each dot represents cloud cover in percent (y-axis) at a specific latitude in the southern hemisphere (x-axis is less than 0). There does not seem to be a significant relationship between cloud cover and latitude.  This is proven by the low r-squared value. "
   ]
  },
  {
   "cell_type": "markdown",
   "metadata": {},
   "source": [
    "####  Northern Hemisphere - Wind Speed (mph) vs. Latitude Linear Regression"
   ]
  },
  {
   "cell_type": "code",
   "execution_count": 20,
   "metadata": {},
   "outputs": [
    {
     "name": "stdout",
     "output_type": "stream",
     "text": [
      "The r-squared of latitude and wind speed is 0.0005216035347823524\n"
     ]
    },
    {
     "data": {
      "image/png": "[encoded data removed]",
      "text/plain": [
       "<Figure size 432x288 with 1 Axes>"
      ]
     },
     "metadata": {
      "needs_background": "light"
     },
     "output_type": "display_data"
    }
   ],
   "source": [
    "slope, intercept, rvalue, pvalue, stderr = linregress(nhlat.astype(float),nhwind.astype(float))\n",
    "regress_values = slope * nhlat + intercept\n",
    "line_eq = \"y = \" + str(round(slope,2)) + \"x + \" + str(round(intercept,2))\n",
    "\n",
    "plt.scatter(nhlat,nhwind)\n",
    "plt.plot(nhlat,regress_values)\n",
    "plt.annotate(line_eq,(10,10),fontsize=15,color=\"red\")\n",
    "plt.xlabel('Latitude')\n",
    "plt.ylabel('Wind Speed (mph)')\n",
    "plt.savefig(\"Output_Data/nhem_lat_wind.png\")\n",
    "\n",
    "\n",
    "print(\"The r-squared of latitude and wind speed is \" + str(rvalue**2))\n"
   ]
  },
  {
   "cell_type": "markdown",
   "metadata": {},
   "source": [
    "In this scatter plot each dot represents wind speed in mph (y-axis) at a specific latitude in the northern hemisphere (x-axis is greater than 0). There does not seem to be a significant relationship between wind speed and latitude.  This is proven by the low r-squared value. "
   ]
  },
  {
   "cell_type": "markdown",
   "metadata": {},
   "source": [
    "####  Southern Hemisphere - Wind Speed (mph) vs. Latitude Linear Regression"
   ]
  },
  {
   "cell_type": "code",
   "execution_count": 21,
   "metadata": {},
   "outputs": [
    {
     "name": "stdout",
     "output_type": "stream",
     "text": [
      "The r-squared of latitude and wind speed is 0.004626977959478554\n"
     ]
    },
    {
     "data": {
      "image/png": "[encoded data removed]",
      "text/plain": [
       "<Figure size 432x288 with 1 Axes>"
      ]
     },
     "metadata": {
      "needs_background": "light"
     },
     "output_type": "display_data"
    }
   ],
   "source": [
    "slope, intercept, rvalue, pvalue, stderr = linregress(shlat.astype(float),shwind.astype(float))\n",
    "regress_values = slope * shlat + intercept\n",
    "line_eq = \"y = \" + str(round(slope,2)) + \"x + \" + str(round(intercept,2))\n",
    "\n",
    "plt.scatter(shlat,shwind)\n",
    "plt.plot(shlat,regress_values)\n",
    "plt.annotate(line_eq,(-50,23),fontsize=15,color=\"red\")\n",
    "plt.xlabel('Latitude')\n",
    "plt.ylabel('Wind Speed (mph)')\n",
    "plt.savefig(\"Output_Data/shem_lat_wind.png\")\n",
    "\n",
    "\n",
    "print(\"The r-squared of latitude and wind speed is \" + str(rvalue**2))"
   ]
  },
  {
   "cell_type": "markdown",
   "metadata": {},
   "source": [
    "In this scatter plot each dot represents wind speed in mph (y-axis) at a specific latitude in the southern hemisphere (x-axis is greater than 0). There does not seem to be a significant relationship between wind speed and latitude.  This is proven by the low r-squared value. "
   ]
  }
 ],
 "metadata": {
  "anaconda-cloud": {},
  "kernel_info": {
   "name": "python3"
  },
  "kernelspec": {
   "display_name": "Python 3.6.10 64-bit ('PythonData': conda)",
   "language": "python",
   "name": "python361064bitpythondataconda42b4411259a540dab88830aae798104f"
  },
  "language_info": {
   "codemirror_mode": {
    "name": "ipython",
    "version": 3
   },
   "file_extension": ".py",
   "mimetype": "text/x-python",
   "name": "python",
   "nbconvert_exporter": "python",
   "pygments_lexer": "ipython3",
   "version": "3.6.10"
  },
  "latex_envs": {
   "LaTeX_envs_menu_present": true,
   "autoclose": false,
   "autocomplete": true,
   "bibliofile": "biblio.bib",
   "cite_by": "apalike",
   "current_citInitial": 1,
   "eqLabelWithNumbers": true,
   "eqNumInitial": 1,
   "hotkeys": {
    "equation": "Ctrl-E",
    "itemize": "Ctrl-I"
   },
   "labels_anchors": false,
   "latex_user_defs": false,
   "report_style_numbering": false,
   "user_envs_cfg": false
  },
  "nteract": {
   "version": "0.12.3"
  }
 },
 "nbformat": 4,
 "nbformat_minor": 2
}
