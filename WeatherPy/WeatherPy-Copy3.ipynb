{
 "cells": [
  {
   "cell_type": "markdown",
   "metadata": {},
   "source": [
    "# WeatherPy\n",
    "----\n",
    "\n",
    "In this example, Python script was utilized to visualize the weather of 500+ cities across the world of varying distance from the equator. \n",
    "\n",
    "OBSERVED TRENDS\n",
    "1.  In this data Max Temp was the most dependent variable to the independent variable Latitude.\n",
    "2.  Latitude below the equator (Southern Hemisphere) had a positive relationship to Max Temp.  That is as latitude increased, the Max Temp increased.\n",
    "3.  Latitude above the equator (Northern Hemisphere) had a negative relationship to Max Temp.  That is as latitude increased, the Max Temp decreased.\n",
    "4.  The other variables; humidity, cloudiness, and wind speed, were not dependent on latitude.\n"
   ]
  },
  {
   "cell_type": "code",
   "execution_count": 1,
   "metadata": {
    "scrolled": true
   },
   "outputs": [],
   "source": [
    "# Dependencies and Setup\n",
    "import csv\n",
    "import matplotlib.pyplot as plt\n",
    "import pandas as pd\n",
    "import numpy as np\n",
    "import requests\n",
    "import time\n",
    "from scipy.stats import linregress\n",
    "from pprint import pprint\n",
    "import scipy.stats as st\n",
    "\n",
    "# Import API key\n",
    "from api_keys import weather_api_key\n",
    "\n",
    "# Incorporated citipy to determine city based on latitude and longitude\n",
    "from citipy import citipy\n",
    "\n",
    "# Output File (CSV)\n",
    "output_data_file = \"output_data/cities.csv\"\n",
    "\n",
    "# Range of latitudes and longitudes\n",
    "lat_range = (-90, 90)\n",
    "lng_range = (-180, 180)"
   ]
  },
  {
   "cell_type": "markdown",
   "metadata": {},
   "source": [
    "## Generate Cities List"
   ]
  },
  {
   "cell_type": "code",
   "execution_count": 2,
   "metadata": {},
   "outputs": [
    {
     "name": "stdout",
     "output_type": "stream",
     "text": [
      "City Count 609\n",
      "Country Count 609\n"
     ]
    }
   ],
   "source": [
    "# List for holding lat_lngs and cities\n",
    "lat_lngs = []\n",
    "cities = []\n",
    "countries = []\n",
    "\n",
    "# Create a set of random lat and lng combinations\n",
    "lats = np.random.uniform(lat_range[0], lat_range[1], size=1500)\n",
    "lngs = np.random.uniform(lng_range[0], lng_range[1], size=1500)\n",
    "lat_lngs = zip(lats, lngs)\n",
    "\n",
    "# Identify nearest city for each lat, lng combination\n",
    "for lat_lng in lat_lngs:\n",
    "    city = citipy.nearest_city(lat_lng[0], lat_lng[1]).city_name\n",
    "    country = citipy.nearest_city(lat_lng[0], lat_lng[1]).country_code\n",
    "    # If the city is unique, then add it to a our cities list\n",
    "    if city not in cities:\n",
    "        cities.append(city)\n",
    "        countries.append(country.upper())\n",
    "# Print the city count to confirm sufficient count\n",
    "print(\"City Count \" + str(len(cities)))\n",
    "print(\"Country Count \" + str(len(countries)))\n",
    "\n",
    "# lat_lngs\n",
    "# cities"
   ]
  },
  {
   "cell_type": "code",
   "execution_count": 3,
   "metadata": {},
   "outputs": [
    {
     "data": {
      "text/html": [
       "<div>\n",
       "<style scoped>\n",
       "    .dataframe tbody tr th:only-of-type {\n",
       "        vertical-align: middle;\n",
       "    }\n",
       "\n",
       "    .dataframe tbody tr th {\n",
       "        vertical-align: top;\n",
       "    }\n",
       "\n",
       "    .dataframe thead th {\n",
       "        text-align: right;\n",
       "    }\n",
       "</style>\n",
       "<table border=\"1\" class=\"dataframe\">\n",
       "  <thead>\n",
       "    <tr style=\"text-align: right;\">\n",
       "      <th></th>\n",
       "      <th>City</th>\n",
       "      <th>Country</th>\n",
       "      <th>Max Temperature</th>\n",
       "      <th>Humidity (%)</th>\n",
       "      <th>Cloudiness (%)</th>\n",
       "      <th>Wind Speed (MPH)</th>\n",
       "      <th>Latitude</th>\n",
       "      <th>Longitude</th>\n",
       "    </tr>\n",
       "  </thead>\n",
       "  <tbody>\n",
       "    <tr>\n",
       "      <th>0</th>\n",
       "      <td>san patricio</td>\n",
       "      <td>MX</td>\n",
       "      <td></td>\n",
       "      <td></td>\n",
       "      <td></td>\n",
       "      <td></td>\n",
       "      <td></td>\n",
       "      <td></td>\n",
       "    </tr>\n",
       "    <tr>\n",
       "      <th>1</th>\n",
       "      <td>bredasdorp</td>\n",
       "      <td>ZA</td>\n",
       "      <td></td>\n",
       "      <td></td>\n",
       "      <td></td>\n",
       "      <td></td>\n",
       "      <td></td>\n",
       "      <td></td>\n",
       "    </tr>\n",
       "    <tr>\n",
       "      <th>2</th>\n",
       "      <td>kindersley</td>\n",
       "      <td>CA</td>\n",
       "      <td></td>\n",
       "      <td></td>\n",
       "      <td></td>\n",
       "      <td></td>\n",
       "      <td></td>\n",
       "      <td></td>\n",
       "    </tr>\n",
       "    <tr>\n",
       "      <th>3</th>\n",
       "      <td>punta arenas</td>\n",
       "      <td>CL</td>\n",
       "      <td></td>\n",
       "      <td></td>\n",
       "      <td></td>\n",
       "      <td></td>\n",
       "      <td></td>\n",
       "      <td></td>\n",
       "    </tr>\n",
       "    <tr>\n",
       "      <th>4</th>\n",
       "      <td>faanui</td>\n",
       "      <td>PF</td>\n",
       "      <td></td>\n",
       "      <td></td>\n",
       "      <td></td>\n",
       "      <td></td>\n",
       "      <td></td>\n",
       "      <td></td>\n",
       "    </tr>\n",
       "  </tbody>\n",
       "</table>\n",
       "</div>"
      ],
      "text/plain": [
       "           City Country Max Temperature Humidity (%) Cloudiness (%)  \\\n",
       "0  san patricio      MX                                               \n",
       "1    bredasdorp      ZA                                               \n",
       "2    kindersley      CA                                               \n",
       "3  punta arenas      CL                                               \n",
       "4        faanui      PF                                               \n",
       "\n",
       "  Wind Speed (MPH) Latitude Longitude  \n",
       "0                                      \n",
       "1                                      \n",
       "2                                      \n",
       "3                                      \n",
       "4                                      "
      ]
     },
     "execution_count": 3,
     "metadata": {},
     "output_type": "execute_result"
    }
   ],
   "source": [
    "city_weather = pd.DataFrame({\"City\":cities,\n",
    "                               \"Country\":countries,\n",
    "                               \"Max Temperature\":\"\",\n",
    "                               \"Humidity (%)\":\"\",\n",
    "                               \"Cloudiness (%)\":\"\",\n",
    "                               \"Wind Speed (MPH)\":\"\",\n",
    "                               \"Latitude\":\"\",\n",
    "                               \"Longitude\":\"\"})\n",
    "city_weather.head()"
   ]
  },
  {
   "cell_type": "markdown",
   "metadata": {},
   "source": [
    "### Perform API Calls\n",
    "* Perform a weather check on each city using a series of successive API calls.\n",
    "* Include a print log of each city as it'sbeing processed (with the city number and city name).\n"
   ]
  },
  {
   "cell_type": "code",
   "execution_count": 4,
   "metadata": {},
   "outputs": [
    {
     "name": "stdout",
     "output_type": "stream",
     "text": [
      "\n",
      "-----------------------------\n",
      "Beginning Data Retrieval\n",
      "-----------------------------\n",
      "Processing Record 1 of Set 1 | San Patricio\n",
      "Processing Record 2 of Set 1 | Bredasdorp\n",
      "Processing Record 3 of Set 1 | Kindersley\n",
      "Processing Record 4 of Set 1 | Punta Arenas\n",
      "Processing Record 5 of Set 1 | Faanui\n",
      "Processing Record 6 of Set 1 | Saskylakh\n",
      "Processing Record 7 of Set 1 | Tiarei\n",
      "Processing Record 8 of Set 1 | Leningradskiy\n",
      "Processing Record 9 of Set 1 | Jamestown\n",
      "Processing Record 10 of Set 1 | Lālmohan\n",
      "City not found....Skipping............\n",
      "City not found....Skipping............\n",
      "Processing Record 11 of Set 1 | Tuktoyaktuk\n",
      "Processing Record 12 of Set 1 | Gualaquiza\n",
      "Processing Record 13 of Set 1 | Melfi\n",
      "Processing Record 14 of Set 1 | Broken Hill\n",
      "Processing Record 15 of Set 1 | Ancud\n",
      "Processing Record 16 of Set 1 | Ilulissat\n",
      "Processing Record 17 of Set 1 | Hilo\n",
      "Processing Record 18 of Set 1 | Qarqīn\n",
      "Processing Record 19 of Set 1 | Salalah\n",
      "Processing Record 20 of Set 1 | Port Alfred\n",
      "Processing Record 21 of Set 1 | Nyimba\n",
      "Processing Record 22 of Set 1 | Hobart\n",
      "Processing Record 23 of Set 1 | New Norfolk\n",
      "Processing Record 24 of Set 1 | Manokwari\n",
      "City not found....Skipping............\n",
      "Processing Record 25 of Set 1 | Saint-Leu\n",
      "Processing Record 26 of Set 1 | Albany\n",
      "Processing Record 27 of Set 1 | Chikwawa\n",
      "Processing Record 28 of Set 1 | Dawei\n",
      "Processing Record 29 of Set 1 | Khatanga\n",
      "City not found....Skipping............\n",
      "Processing Record 30 of Set 1 | Tuatapere\n",
      "Processing Record 31 of Set 1 | Puerto Escondido\n",
      "Processing Record 32 of Set 1 | Marabu\n",
      "City not found....Skipping............\n",
      "Processing Record 33 of Set 1 | Kumul\n",
      "Processing Record 34 of Set 1 | Rovaniemi\n",
      "Processing Record 35 of Set 1 | Victoria\n",
      "Processing Record 36 of Set 1 | Ushuaia\n",
      "Processing Record 37 of Set 1 | Los Llanos de Aridane\n",
      "Processing Record 38 of Set 1 | Tecolutla\n",
      "Processing Record 39 of Set 1 | Qaanaaq\n",
      "Processing Record 40 of Set 1 | Trutnov\n",
      "Processing Record 41 of Set 1 | Port Hardy\n",
      "Processing Record 42 of Set 1 | Umm Kaddadah\n",
      "Processing Record 43 of Set 1 | Yola\n",
      "Processing Record 44 of Set 1 | Upernavik\n",
      "Processing Record 45 of Set 1 | Cape Town\n",
      "Processing Record 46 of Set 1 | Thompson\n",
      "Processing Record 47 of Set 1 | Busselton\n",
      "Processing Record 48 of Set 1 | Vanimo\n",
      "Processing Record 49 of Set 1 | Tasiilaq\n",
      "Processing Record 50 of Set 1 | Oktyabr'skoye\n",
      "Processing Record 1 of Set 2 | Qarchī Gak\n",
      "Processing Record 2 of Set 2 | Beringovskiy\n",
      "Processing Record 3 of Set 2 | Irosin\n",
      "Processing Record 4 of Set 2 | Celestún\n",
      "Processing Record 5 of Set 2 | Qaqortoq\n",
      "City not found....Skipping............\n",
      "Processing Record 6 of Set 2 | Souillac\n",
      "Processing Record 7 of Set 2 | Casablanca\n",
      "Processing Record 8 of Set 2 | Rikitea\n",
      "Processing Record 9 of Set 2 | Trelew\n",
      "City not found....Skipping............\n",
      "Processing Record 10 of Set 2 | La Rioja\n",
      "Processing Record 11 of Set 2 | Madang\n",
      "Processing Record 12 of Set 2 | Petropavlovsk-Kamchatskiy\n",
      "Processing Record 13 of Set 2 | Andenes\n",
      "Processing Record 14 of Set 2 | Mar del Plata\n",
      "Processing Record 15 of Set 2 | Avarua\n",
      "Processing Record 16 of Set 2 | East London\n",
      "Processing Record 17 of Set 2 | Yumen\n",
      "Processing Record 18 of Set 2 | Alta Floresta\n",
      "Processing Record 19 of Set 2 | Krasnyy Yar\n",
      "Processing Record 20 of Set 2 | Auki\n",
      "City not found....Skipping............\n",
      "Processing Record 21 of Set 2 | Erenhot\n",
      "Processing Record 22 of Set 2 | Srednekolymsk\n",
      "City not found....Skipping............\n",
      "Processing Record 23 of Set 2 | Norman Wells\n",
      "Processing Record 24 of Set 2 | Mato Verde\n",
      "City not found....Skipping............\n",
      "Processing Record 25 of Set 2 | Sidney\n",
      "Processing Record 26 of Set 2 | Maniwaki\n",
      "City not found....Skipping............\n",
      "Processing Record 27 of Set 2 | Mahébourg\n",
      "Processing Record 28 of Set 2 | Nanortalik\n",
      "Processing Record 29 of Set 2 | Chui\n",
      "Processing Record 30 of Set 2 | Ponta do Sol\n",
      "Processing Record 31 of Set 2 | Atuona\n",
      "City not found....Skipping............\n",
      "Processing Record 32 of Set 2 | Mallasamudram\n",
      "Processing Record 33 of Set 2 | Saint-Georges\n",
      "Processing Record 34 of Set 2 | Port Elizabeth\n",
      "Processing Record 35 of Set 2 | Ahipara\n",
      "Processing Record 36 of Set 2 | Teya\n",
      "Processing Record 37 of Set 2 | Thunder Bay\n",
      "Processing Record 38 of Set 2 | Bethel\n",
      "Processing Record 39 of Set 2 | Port-Gentil\n",
      "Processing Record 40 of Set 2 | Vaini\n",
      "City not found....Skipping............\n",
      "Processing Record 41 of Set 2 | Grindavik\n",
      "Processing Record 42 of Set 2 | Puerto Ayora\n",
      "Processing Record 43 of Set 2 | Barrow\n",
      "Processing Record 44 of Set 2 | La Ronge\n",
      "Processing Record 45 of Set 2 | Oddur\n",
      "Processing Record 46 of Set 2 | George Town\n",
      "Processing Record 47 of Set 2 | Guerrero Negro\n",
      "Processing Record 48 of Set 2 | Paita\n",
      "Processing Record 49 of Set 2 | ‘Āhuimanu\n",
      "Processing Record 50 of Set 2 | Saint George\n",
      "Processing Record 1 of Set 3 | Seoul\n",
      "Processing Record 2 of Set 3 | Butaritari\n",
      "Processing Record 3 of Set 3 | Missoula\n",
      "Processing Record 4 of Set 3 | Rabo de Peixe\n",
      "Processing Record 5 of Set 3 | Canton\n",
      "Processing Record 6 of Set 3 | Abbeville\n",
      "Processing Record 7 of Set 3 | Atambua\n",
      "Processing Record 8 of Set 3 | Hermanus\n",
      "Processing Record 9 of Set 3 | Lüderitz\n",
      "Processing Record 10 of Set 3 | Vestmannaeyjar\n",
      "Processing Record 11 of Set 3 | Port Shepstone\n",
      "Processing Record 12 of Set 3 | Raymondville\n",
      "Processing Record 13 of Set 3 | Hithadhoo\n",
      "Processing Record 14 of Set 3 | Solnechnyy\n",
      "Processing Record 15 of Set 3 | Ponérihouen\n",
      "Processing Record 16 of Set 3 | Buraidah\n",
      "Processing Record 17 of Set 3 | Esperance\n",
      "Processing Record 18 of Set 3 | Pitkyaranta\n",
      "Processing Record 19 of Set 3 | Boyolangu\n",
      "Processing Record 20 of Set 3 | Lompoc\n",
      "Processing Record 21 of Set 3 | Aktobe\n",
      "Processing Record 22 of Set 3 | Lorengau\n",
      "Processing Record 23 of Set 3 | Aleksandrovskoye\n",
      "Processing Record 24 of Set 3 | Kabelvåg\n",
      "Processing Record 25 of Set 3 | Bathsheba\n",
      "Processing Record 26 of Set 3 | Ponta Delgada\n",
      "Processing Record 27 of Set 3 | Namatanai\n",
      "Processing Record 28 of Set 3 | Waipawa\n",
      "Processing Record 29 of Set 3 | Aasiaat\n",
      "Processing Record 30 of Set 3 | Bubaque\n",
      "Processing Record 31 of Set 3 | Dzhebariki-Khaya\n",
      "Processing Record 32 of Set 3 | Koumac\n",
      "Processing Record 33 of Set 3 | Torbay\n",
      "Processing Record 34 of Set 3 | Strezhevoy\n",
      "Processing Record 35 of Set 3 | Ngunguru\n",
      "Processing Record 36 of Set 3 | Sobolevo\n",
      "Processing Record 37 of Set 3 | Castro\n",
      "Processing Record 38 of Set 3 | Ostrovnoy\n",
      "Processing Record 39 of Set 3 | Praxédis Guerrero\n",
      "Processing Record 40 of Set 3 | Richards Bay\n",
      "Processing Record 41 of Set 3 | Undory\n",
      "Processing Record 42 of Set 3 | Waingapu\n",
      "Processing Record 43 of Set 3 | Vila Franca do Campo\n",
      "Processing Record 44 of Set 3 | Constitucion\n",
      "Processing Record 45 of Set 3 | The Valley\n",
      "Processing Record 46 of Set 3 | Cockburn Town\n",
      "Processing Record 47 of Set 3 | Saint Paul Harbor\n",
      "Processing Record 48 of Set 3 | Lagoa\n",
      "Processing Record 49 of Set 3 | Cinnaminson\n",
      "Processing Record 50 of Set 3 | Necochea\n",
      "Processing Record 1 of Set 4 | Kyra\n",
      "Processing Record 2 of Set 4 | Chara\n",
      "Processing Record 3 of Set 4 | Ola\n",
      "Processing Record 4 of Set 4 | Yellowknife\n",
      "Processing Record 5 of Set 4 | Bengkulu\n",
      "Processing Record 6 of Set 4 | Tamandaré\n",
      "Processing Record 7 of Set 4 | Tessalit\n",
      "Processing Record 8 of Set 4 | Buala\n",
      "Processing Record 9 of Set 4 | Pahrump\n",
      "Processing Record 10 of Set 4 | Bluff\n",
      "Processing Record 11 of Set 4 | Hasaki\n",
      "Processing Record 12 of Set 4 | Hamilton\n",
      "Processing Record 13 of Set 4 | Kamaishi\n",
      "Processing Record 14 of Set 4 | Road Town\n",
      "Processing Record 15 of Set 4 | Havelock\n",
      "Processing Record 16 of Set 4 | Pisco\n",
      "Processing Record 17 of Set 4 | Belaya Gora\n",
      "Processing Record 18 of Set 4 | Denia\n",
      "City not found....Skipping............\n",
      "Processing Record 19 of Set 4 | Çanakkale Province\n",
      "Processing Record 20 of Set 4 | Praia da Vitória\n",
      "Processing Record 21 of Set 4 | Isangel\n",
      "City not found....Skipping............\n",
      "Processing Record 22 of Set 4 | Omboué\n",
      "Processing Record 23 of Set 4 | San Quintín\n",
      "Processing Record 24 of Set 4 | Cabo San Lucas\n",
      "Processing Record 25 of Set 4 | Kapaa\n",
      "Processing Record 26 of Set 4 | Paete\n",
      "Processing Record 27 of Set 4 | Alofi\n",
      "Processing Record 28 of Set 4 | Makokou\n",
      "Processing Record 29 of Set 4 | Pingliang\n",
      "Processing Record 30 of Set 4 | Boueni\n",
      "Processing Record 31 of Set 4 | Sola\n",
      "Processing Record 32 of Set 4 | Tiksi\n"
     ]
    },
    {
     "name": "stdout",
     "output_type": "stream",
     "text": [
      "Processing Record 33 of Set 4 | Kirensk\n",
      "Processing Record 34 of Set 4 | Bani Walid\n",
      "Processing Record 35 of Set 4 | Huarmey\n",
      "City not found....Skipping............\n",
      "Processing Record 36 of Set 4 | Whitehorse\n",
      "Processing Record 37 of Set 4 | Egvekinot\n",
      "Processing Record 38 of Set 4 | Pevek\n",
      "Processing Record 39 of Set 4 | Lebu\n",
      "Processing Record 40 of Set 4 | Levelland\n",
      "Processing Record 41 of Set 4 | Coquimbo\n",
      "Processing Record 42 of Set 4 | Verāval\n",
      "Processing Record 43 of Set 4 | Beitbridge\n",
      "Processing Record 44 of Set 4 | Bastrop\n",
      "Processing Record 45 of Set 4 | Starotimoshkino\n",
      "Processing Record 46 of Set 4 | Viking\n",
      "Processing Record 47 of Set 4 | Saint-Philippe\n",
      "Processing Record 48 of Set 4 | São João da Barra\n",
      "Processing Record 49 of Set 4 | Ajdabiya\n",
      "Processing Record 50 of Set 4 | Giza\n",
      "City not found....Skipping............\n",
      "City not found....Skipping............\n",
      "Processing Record 1 of Set 5 | Adrar\n",
      "Processing Record 2 of Set 5 | Woodward\n",
      "Processing Record 3 of Set 5 | Guaíra\n",
      "Processing Record 4 of Set 5 | Kontagora\n",
      "Processing Record 5 of Set 5 | Arraial do Cabo\n",
      "Processing Record 6 of Set 5 | Lavrentiya\n",
      "Processing Record 7 of Set 5 | Vallenar\n",
      "Processing Record 8 of Set 5 | Dikson\n",
      "Processing Record 9 of Set 5 | West Plains\n",
      "Processing Record 10 of Set 5 | Grand-Santi\n",
      "Processing Record 11 of Set 5 | Carutapera\n",
      "Processing Record 12 of Set 5 | Hobyo\n",
      "Processing Record 13 of Set 5 | Saint-Joseph\n",
      "Processing Record 14 of Set 5 | Tura\n",
      "Processing Record 15 of Set 5 | Rossland\n",
      "Processing Record 16 of Set 5 | Nayoro\n",
      "Processing Record 17 of Set 5 | Leh\n",
      "Processing Record 18 of Set 5 | Longyearbyen\n",
      "Processing Record 19 of Set 5 | Santana do Matos\n",
      "City not found....Skipping............\n",
      "Processing Record 20 of Set 5 | Letlhakane\n",
      "Processing Record 21 of Set 5 | Jaqué\n",
      "Processing Record 22 of Set 5 | Chokurdakh\n",
      "Processing Record 23 of Set 5 | Katsuura\n",
      "Processing Record 24 of Set 5 | Čeladná\n",
      "Processing Record 25 of Set 5 | Ocampo\n",
      "Processing Record 26 of Set 5 | Kushiro\n",
      "Processing Record 27 of Set 5 | Husavik\n",
      "Processing Record 28 of Set 5 | Beni\n",
      "Processing Record 29 of Set 5 | Lixouri\n",
      "Processing Record 30 of Set 5 | Bambous Virieux\n",
      "Processing Record 31 of Set 5 | Oranjestad\n",
      "Processing Record 32 of Set 5 | Provideniya\n",
      "Processing Record 33 of Set 5 | Keetmanshoop\n",
      "Processing Record 34 of Set 5 | Tymovskoye\n",
      "Processing Record 35 of Set 5 | Clyde River\n",
      "Processing Record 36 of Set 5 | São Filipe\n",
      "Processing Record 37 of Set 5 | Port Hedland\n",
      "Processing Record 38 of Set 5 | Shinpokh\n",
      "City not found....Skipping............\n",
      "City not found....Skipping............\n",
      "Processing Record 39 of Set 5 | Vila do Maio\n",
      "Processing Record 40 of Set 5 | Pangnirtung\n",
      "Processing Record 41 of Set 5 | Cidreira\n",
      "Processing Record 42 of Set 5 | Cherskiy\n",
      "Processing Record 43 of Set 5 | Taltal\n",
      "Processing Record 44 of Set 5 | Carnarvon\n",
      "Processing Record 45 of Set 5 | Zabol\n",
      "Processing Record 46 of Set 5 | Mezhdurechensk\n",
      "Processing Record 47 of Set 5 | Palmer\n",
      "Processing Record 48 of Set 5 | Petrozavodsk\n",
      "Processing Record 49 of Set 5 | Hurricane\n",
      "Processing Record 50 of Set 5 | Sidhi\n",
      "Processing Record 1 of Set 6 | Liuli\n",
      "Processing Record 2 of Set 6 | Laredo\n",
      "City not found....Skipping............\n",
      "Processing Record 3 of Set 6 | Craigieburn\n",
      "Processing Record 4 of Set 6 | Mackay\n",
      "Processing Record 5 of Set 6 | Kongolo\n",
      "Processing Record 6 of Set 6 | Kikerino\n",
      "Processing Record 7 of Set 6 | Makakilo City\n",
      "City not found....Skipping............\n",
      "Processing Record 8 of Set 6 | Abhā\n",
      "Processing Record 9 of Set 6 | Kapit\n",
      "Processing Record 10 of Set 6 | Melville\n",
      "Processing Record 11 of Set 6 | Yulara\n",
      "Processing Record 12 of Set 6 | Meulaboh\n",
      "City not found....Skipping............\n",
      "Processing Record 13 of Set 6 | Nikolskoye\n",
      "Processing Record 14 of Set 6 | Mareeba\n",
      "Processing Record 15 of Set 6 | Zyryanka\n",
      "Processing Record 16 of Set 6 | Ekhabi\n",
      "Processing Record 17 of Set 6 | Caucayá\n",
      "City not found....Skipping............\n",
      "Processing Record 18 of Set 6 | Santiago del Estero\n",
      "Processing Record 19 of Set 6 | Wanning\n",
      "Processing Record 20 of Set 6 | Muisne\n",
      "Processing Record 21 of Set 6 | Wajid\n",
      "City not found....Skipping............\n",
      "Processing Record 22 of Set 6 | Atbasar\n",
      "Processing Record 23 of Set 6 | Corinth\n",
      "Processing Record 24 of Set 6 | Severo-Kuril'sk\n",
      "Processing Record 25 of Set 6 | Sungai Penuh\n",
      "Processing Record 26 of Set 6 | Niquero\n",
      "Processing Record 27 of Set 6 | Kahului\n",
      "Processing Record 28 of Set 6 | Tazovsky\n",
      "Processing Record 29 of Set 6 | Kirovsk\n",
      "Processing Record 30 of Set 6 | Evensk\n",
      "Processing Record 31 of Set 6 | Ballina\n",
      "Processing Record 32 of Set 6 | Kantang\n",
      "Processing Record 33 of Set 6 | Berlevåg\n",
      "Processing Record 34 of Set 6 | Jiwani\n",
      "Processing Record 35 of Set 6 | Namwala\n",
      "Processing Record 36 of Set 6 | Liwale\n",
      "Processing Record 37 of Set 6 | Dingzhou\n",
      "Processing Record 38 of Set 6 | Turbat\n",
      "Processing Record 39 of Set 6 | Christchurch\n",
      "Processing Record 40 of Set 6 | Ribeira Grande\n",
      "Processing Record 41 of Set 6 | Kisangani\n",
      "Processing Record 42 of Set 6 | Kabompo\n",
      "Processing Record 43 of Set 6 | Bacolod City\n",
      "Processing Record 44 of Set 6 | Kavieng\n",
      "Processing Record 45 of Set 6 | Aketi\n",
      "Processing Record 46 of Set 6 | Nelson Bay\n",
      "Processing Record 47 of Set 6 | Poros\n",
      "Processing Record 48 of Set 6 | Balakhta\n",
      "Processing Record 49 of Set 6 | Cabedelo\n",
      "Processing Record 50 of Set 6 | Vardø\n",
      "Processing Record 1 of Set 7 | Chapais\n",
      "Processing Record 2 of Set 7 | Vihti\n",
      "Processing Record 3 of Set 7 | Bacungan\n",
      "Processing Record 4 of Set 7 | Haines Junction\n",
      "Processing Record 5 of Set 7 | Fort Nelson\n",
      "Processing Record 6 of Set 7 | Sitka\n",
      "Processing Record 7 of Set 7 | Makassar\n",
      "Processing Record 8 of Set 7 | Nome\n",
      "Processing Record 9 of Set 7 | Orange Cove\n",
      "Processing Record 10 of Set 7 | Sampit\n",
      "Processing Record 11 of Set 7 | Vostok\n",
      "Processing Record 12 of Set 7 | Biak\n",
      "Processing Record 13 of Set 7 | Flin Flon\n",
      "Processing Record 14 of Set 7 | Padang\n",
      "Processing Record 15 of Set 7 | Talnakh\n",
      "City not found....Skipping............\n",
      "Processing Record 16 of Set 7 | Petauke\n",
      "Processing Record 17 of Set 7 | Kabanjahe\n",
      "Processing Record 18 of Set 7 | Kalmunai\n",
      "Processing Record 19 of Set 7 | Dryden\n",
      "Processing Record 20 of Set 7 | Port Lincoln\n",
      "Processing Record 21 of Set 7 | Narsaq\n",
      "Processing Record 22 of Set 7 | Aksu\n",
      "Processing Record 23 of Set 7 | Cayenne\n",
      "Processing Record 24 of Set 7 | Jasper\n",
      "Processing Record 25 of Set 7 | Okhotsk\n",
      "City not found....Skipping............\n",
      "Processing Record 26 of Set 7 | Guarujá\n",
      "Processing Record 27 of Set 7 | Mangai\n",
      "Processing Record 28 of Set 7 | Lake Havasu City\n",
      "Processing Record 29 of Set 7 | Dhidhdhoo\n",
      "Processing Record 30 of Set 7 | Mount Isa\n",
      "Processing Record 31 of Set 7 | Rakoshyno\n",
      "Processing Record 32 of Set 7 | Saldanha\n",
      "City not found....Skipping............\n",
      "Processing Record 33 of Set 7 | Damietta\n",
      "City not found....Skipping............\n",
      "Processing Record 34 of Set 7 | Moyale\n",
      "Processing Record 35 of Set 7 | Jadu\n",
      "Processing Record 36 of Set 7 | Khāsh\n",
      "City not found....Skipping............\n",
      "Processing Record 37 of Set 7 | Aklavik\n",
      "City not found....Skipping............\n",
      "Processing Record 38 of Set 7 | Shakawe\n",
      "Processing Record 39 of Set 7 | Carmelo\n",
      "Processing Record 40 of Set 7 | Velsk\n",
      "Processing Record 41 of Set 7 | Dickinson\n",
      "City not found....Skipping............\n",
      "Processing Record 42 of Set 7 | Krk\n",
      "Processing Record 43 of Set 7 | Vung Tau\n",
      "Processing Record 44 of Set 7 | Tarko-Sale\n",
      "Processing Record 45 of Set 7 | Centralina\n",
      "Processing Record 46 of Set 7 | Muhos\n",
      "Processing Record 47 of Set 7 | Magadan\n",
      "Processing Record 48 of Set 7 | Geraldton\n",
      "Processing Record 49 of Set 7 | Iqaluit\n",
      "Processing Record 50 of Set 7 | Nosy Varika\n",
      "City not found....Skipping............\n",
      "City not found....Skipping............\n",
      "Processing Record 1 of Set 8 | São Gabriel da Cachoeira\n",
      "Processing Record 2 of Set 8 | Mbanza-Ngungu\n",
      "Processing Record 3 of Set 8 | Roald\n",
      "Processing Record 4 of Set 8 | Novy Urengoy\n",
      "City not found....Skipping............\n",
      "Processing Record 5 of Set 8 | Mount Gambier\n",
      "Processing Record 6 of Set 8 | Saint-Augustin\n",
      "Processing Record 7 of Set 8 | Wamba\n",
      "Processing Record 8 of Set 8 | Nishihara\n",
      "Processing Record 9 of Set 8 | Davenport\n",
      "Processing Record 10 of Set 8 | Najrān\n",
      "Processing Record 11 of Set 8 | Pozo Colorado\n",
      "Processing Record 12 of Set 8 | Ossora\n",
      "City not found....Skipping............\n"
     ]
    },
    {
     "name": "stdout",
     "output_type": "stream",
     "text": [
      "City not found....Skipping............\n",
      "Processing Record 13 of Set 8 | Praia\n",
      "Processing Record 14 of Set 8 | Lamu\n",
      "Processing Record 15 of Set 8 | Kavaratti\n",
      "City not found....Skipping............\n",
      "Processing Record 16 of Set 8 | Dubova\n",
      "Processing Record 17 of Set 8 | Pestyaki\n",
      "Processing Record 18 of Set 8 | Yakeshi\n",
      "Processing Record 19 of Set 8 | Painesville\n",
      "Processing Record 20 of Set 8 | Adwa\n",
      "Processing Record 21 of Set 8 | Kawalu\n",
      "Processing Record 22 of Set 8 | Porto Walter\n",
      "Processing Record 23 of Set 8 | Mangaldai\n",
      "Processing Record 24 of Set 8 | Itarema\n",
      "Processing Record 25 of Set 8 | Saint Andrews\n",
      "Processing Record 26 of Set 8 | Kouroussa\n",
      "Processing Record 27 of Set 8 | Poya\n",
      "Processing Record 28 of Set 8 | Gambēla\n",
      "Processing Record 29 of Set 8 | Selenicë\n",
      "Processing Record 30 of Set 8 | Osa\n",
      "Processing Record 31 of Set 8 | Bitung\n",
      "City not found....Skipping............\n",
      "Processing Record 32 of Set 8 | Bilibino\n",
      "Processing Record 33 of Set 8 | Hvide Sande\n",
      "Processing Record 34 of Set 8 | Nara\n",
      "Processing Record 35 of Set 8 | Bilma\n",
      "Processing Record 36 of Set 8 | Komsomol'skiy\n",
      "Processing Record 37 of Set 8 | Naze\n",
      "Processing Record 38 of Set 8 | Piaçabuçu\n",
      "Processing Record 39 of Set 8 | Puksoozero\n",
      "Processing Record 40 of Set 8 | Mogadishu\n",
      "City not found....Skipping............\n",
      "Processing Record 41 of Set 8 | Kroonstad\n",
      "Processing Record 42 of Set 8 | Saint-François\n",
      "Processing Record 43 of Set 8 | Oranjemund\n",
      "Processing Record 44 of Set 8 | Olkhovka\n",
      "Processing Record 45 of Set 8 | Guiren\n",
      "Processing Record 46 of Set 8 | Galveston\n",
      "Processing Record 47 of Set 8 | Mollendo\n",
      "Processing Record 48 of Set 8 | Vao\n",
      "Processing Record 49 of Set 8 | Uyuni\n",
      "Processing Record 50 of Set 8 | North Bend\n",
      "Processing Record 1 of Set 9 | Mahenge\n",
      "Processing Record 2 of Set 9 | Yartsevo\n",
      "Processing Record 3 of Set 9 | Te Anau\n",
      "Processing Record 4 of Set 9 | Linhares\n",
      "Processing Record 5 of Set 9 | College\n",
      "Processing Record 6 of Set 9 | Labuhan\n",
      "Processing Record 7 of Set 9 | Turangi\n",
      "Processing Record 8 of Set 9 | Georgetown\n",
      "Processing Record 9 of Set 9 | Orlik\n",
      "Processing Record 10 of Set 9 | Tomatlán\n",
      "Processing Record 11 of Set 9 | Nhulunbuy\n",
      "City not found....Skipping............\n",
      "City not found....Skipping............\n",
      "Processing Record 12 of Set 9 | Kushima\n",
      "Processing Record 13 of Set 9 | Fortuna\n",
      "City not found....Skipping............\n",
      "Processing Record 14 of Set 9 | Northam\n",
      "Processing Record 15 of Set 9 | Kaitangata\n",
      "Processing Record 16 of Set 9 | Taraz\n",
      "Processing Record 17 of Set 9 | Tromsø\n",
      "Processing Record 18 of Set 9 | Sioux Lookout\n",
      "Processing Record 19 of Set 9 | Saint-Pierre\n",
      "City not found....Skipping............\n",
      "Processing Record 20 of Set 9 | Severo-Yeniseyskiy\n",
      "Processing Record 21 of Set 9 | Mersing\n",
      "Processing Record 22 of Set 9 | Markivka\n",
      "Processing Record 23 of Set 9 | Hailar\n",
      "Processing Record 24 of Set 9 | Barela\n",
      "Processing Record 25 of Set 9 | Hofn\n",
      "Processing Record 26 of Set 9 | Pabradė\n",
      "Processing Record 27 of Set 9 | Miyako\n",
      "Processing Record 28 of Set 9 | Masvingo\n",
      "Processing Record 29 of Set 9 | Horsham\n",
      "Processing Record 30 of Set 9 | Bosaso\n",
      "City not found....Skipping............\n",
      "Processing Record 31 of Set 9 | Tyrma\n",
      "Processing Record 32 of Set 9 | Dhārchula\n",
      "Processing Record 33 of Set 9 | Kendari\n",
      "Processing Record 34 of Set 9 | Tuy Hoa\n",
      "Processing Record 35 of Set 9 | Lakselv\n",
      "Processing Record 36 of Set 9 | Porto Santo\n",
      "City not found....Skipping............\n",
      "City not found....Skipping............\n",
      "Processing Record 37 of Set 9 | Batagay\n",
      "City not found....Skipping............\n",
      "Processing Record 38 of Set 9 | Vrangel'\n",
      "Processing Record 39 of Set 9 | Thames\n",
      "Processing Record 40 of Set 9 | Acapulco de Juárez\n",
      "City not found....Skipping............\n",
      "Processing Record 41 of Set 9 | Margate\n",
      "Processing Record 42 of Set 9 | Altay\n",
      "Processing Record 43 of Set 9 | Klaksvík\n",
      "City not found....Skipping............\n",
      "Processing Record 44 of Set 9 | Magnolia\n",
      "City not found....Skipping............\n",
      "Processing Record 45 of Set 9 | Lake Shasta\n",
      "Processing Record 46 of Set 9 | Griffith\n",
      "City not found....Skipping............\n",
      "City not found....Skipping............\n",
      "Processing Record 47 of Set 9 | Srīvardhan\n",
      "Processing Record 48 of Set 9 | Tautira\n",
      "Processing Record 49 of Set 9 | Upata\n",
      "Processing Record 50 of Set 9 | Muyezerskiy\n",
      "Processing Record 1 of Set 10 | Houma\n",
      "Processing Record 2 of Set 10 | Comodoro Rivadavia\n",
      "Processing Record 3 of Set 10 | Shīeli\n",
      "Processing Record 4 of Set 10 | Fredericksburg\n",
      "City not found....Skipping............\n",
      "Processing Record 5 of Set 10 | Dunedin\n",
      "Processing Record 6 of Set 10 | Henties Bay\n",
      "Processing Record 7 of Set 10 | Newton\n",
      "Processing Record 8 of Set 10 | Takanabe\n",
      "Processing Record 9 of Set 10 | Broome\n",
      "Processing Record 10 of Set 10 | Quesnel\n",
      "Processing Record 11 of Set 10 | Neuquén\n",
      "Processing Record 12 of Set 10 | Caravelas\n",
      "City not found....Skipping............\n",
      "Processing Record 13 of Set 10 | Bukoba\n",
      "Processing Record 14 of Set 10 | Hokitika\n",
      "Processing Record 15 of Set 10 | Touros\n",
      "Processing Record 16 of Set 10 | Muros\n",
      "Processing Record 17 of Set 10 | Olafsvik\n",
      "Processing Record 18 of Set 10 | Port Blair\n",
      "Processing Record 19 of Set 10 | Mossamedes\n",
      "Processing Record 20 of Set 10 | Havre-St-Pierre\n",
      "Processing Record 21 of Set 10 | Kabinda\n",
      "Processing Record 22 of Set 10 | Ferrol\n",
      "Processing Record 23 of Set 10 | Yazd\n",
      "Processing Record 24 of Set 10 | Guarapari\n",
      "Processing Record 25 of Set 10 | Tual\n",
      "Processing Record 26 of Set 10 | Prince Rupert\n",
      "Processing Record 27 of Set 10 | Pensacola\n",
      "Processing Record 28 of Set 10 | Onega\n",
      "Processing Record 29 of Set 10 | Dolores\n",
      "Processing Record 30 of Set 10 | Kaohsiung City\n",
      "Processing Record 31 of Set 10 | Rio de Janeiro\n",
      "Processing Record 32 of Set 10 | Lufilufi\n",
      "Processing Record 33 of Set 10 | Puro\n",
      "Processing Record 34 of Set 10 | Denpasar\n",
      "Processing Record 35 of Set 10 | Gola Gokarannāth\n",
      "Processing Record 36 of Set 10 | Kruisfontein\n",
      "Processing Record 37 of Set 10 | Otofuke\n",
      "Processing Record 38 of Set 10 | Abu Dhabi\n",
      "Processing Record 39 of Set 10 | Deputatsky\n",
      "Processing Record 40 of Set 10 | Makarov\n",
      "Processing Record 41 of Set 10 | Lahat\n",
      "Processing Record 42 of Set 10 | Gizo Government Station\n",
      "Processing Record 43 of Set 10 | Barra do Garças\n",
      "Processing Record 44 of Set 10 | Yar-Sale\n",
      "Processing Record 45 of Set 10 | Uk\n",
      "Processing Record 46 of Set 10 | Antofagasta\n",
      "Processing Record 47 of Set 10 | Salym\n",
      "Processing Record 48 of Set 10 | Kungurtug\n",
      "Processing Record 49 of Set 10 | Winchester\n",
      "Processing Record 50 of Set 10 | Canguçu\n",
      "City not found....Skipping............\n",
      "City not found....Skipping............\n",
      "Processing Record 1 of Set 11 | Puerto del Rosario\n",
      "City not found....Skipping............\n",
      "Processing Record 2 of Set 11 | Santiago de Cao\n",
      "Processing Record 3 of Set 11 | Kantunilkín\n",
      "Processing Record 4 of Set 11 | Shimoda\n",
      "City not found....Skipping............\n",
      "Processing Record 5 of Set 11 | Ubari\n",
      "Processing Record 6 of Set 11 | Mandalgovi\n",
      "Processing Record 7 of Set 11 | Port Augusta\n",
      "Processing Record 8 of Set 11 | Mayo\n",
      "Processing Record 9 of Set 11 | Zhangye\n",
      "Processing Record 10 of Set 11 | Maniitsoq\n",
      "Processing Record 11 of Set 11 | Batagay-Alyta\n",
      "Processing Record 12 of Set 11 | Launceston\n",
      "City not found....Skipping............\n",
      "Processing Record 13 of Set 11 | Arman'\n",
      "Processing Record 14 of Set 11 | Jhajha\n",
      "City not found....Skipping............\n",
      "City not found....Skipping............\n",
      "Processing Record 15 of Set 11 | Almenara\n",
      "Processing Record 16 of Set 11 | Sassandra\n",
      "Processing Record 17 of Set 11 | Usinsk\n",
      "Processing Record 18 of Set 11 | Ambilobe\n",
      "City not found....Skipping............\n",
      "Processing Record 19 of Set 11 | Basoko\n",
      "Processing Record 20 of Set 11 | Aksarka\n",
      "Processing Record 21 of Set 11 | Roma\n",
      "Processing Record 22 of Set 11 | Maracaçumé\n",
      "Processing Record 23 of Set 11 | Murino\n",
      "Processing Record 24 of Set 11 | Kiunga\n",
      "Processing Record 25 of Set 11 | Fairbanks\n",
      "Processing Record 26 of Set 11 | Vestmanna\n",
      "Processing Record 27 of Set 11 | Lethem\n",
      "City not found....Skipping............\n",
      "City not found....Skipping............\n",
      "Processing Record 28 of Set 11 | Havøysund\n",
      "Processing Record 29 of Set 11 | Russell\n",
      "Processing Record 30 of Set 11 | Balclutha\n",
      "Processing Record 31 of Set 11 | Ibrā’\n",
      "Processing Record 32 of Set 11 | Semporna\n",
      "Processing Record 33 of Set 11 | Kulhudhuffushi\n",
      "Processing Record 34 of Set 11 | Moosomin\n"
     ]
    },
    {
     "name": "stdout",
     "output_type": "stream",
     "text": [
      "Processing Record 35 of Set 11 | Halifax\n",
      "Processing Record 36 of Set 11 | Misawa\n",
      "Processing Record 37 of Set 11 | Severnyy\n",
      "Processing Record 38 of Set 11 | Paracuru\n",
      "Processing Record 39 of Set 11 | Kyabé\n",
      "City not found....Skipping............\n",
      "City not found....Skipping............\n",
      "Processing Record 40 of Set 11 | Hambantota\n",
      "Processing Record 41 of Set 11 | Ous\n",
      "\n",
      "-----------------------------\n",
      "Data Retrival Complete\n",
      "-----------------------------\n"
     ]
    }
   ],
   "source": [
    "#Variables to keep track of response number\n",
    "record_num = 1\n",
    "record_set = 1\n",
    "\n",
    "#Base url to make the api call\n",
    "base_url = 'http://api.openweathermap.org/data/2.5/weather?units=imperial&q='\n",
    "\n",
    "#Run the API call for each city\n",
    "print('''\n",
    "-----------------------------\n",
    "Beginning Data Retrieval\n",
    "-----------------------------''')\n",
    "for index, row in city_weather.iterrows(): \n",
    "    #Create the query url for the API call\n",
    "    query_url = base_url + row['City'] + ',' + row['Country'] + '&APPID=' + weather_api_key\n",
    "    \n",
    "    #API call\n",
    "    response = requests.get(query_url).json()\n",
    "    \n",
    "    #Exception script in case the city is not found by the API call\n",
    "    try: \n",
    "        #Meassage to alert the user that the data is being retrieved\n",
    "        print(f'Processing Record {record_num} of Set {record_set} | {response[\"name\"]}')\n",
    "        \n",
    "        #Input data into the dataframe\n",
    "        city_weather.loc[index, 'Cloudiness (%)'] = response['clouds']['all']\n",
    "        city_weather.loc[index, 'Humidity (%)'] = response['main']['humidity']\n",
    "        city_weather.loc[index, 'Latitude'] = response['coord']['lat']\n",
    "        city_weather.loc[index, 'Longitude'] = response['coord']['lon']\n",
    "        city_weather.loc[index, 'Max Temperature'] = response['main']['temp_max']\n",
    "        city_weather.loc[index, 'Wind Speed (MPH)'] = response['wind']['speed']\n",
    "        \n",
    "        #Increase the record count\n",
    "        record_num += 1\n",
    "        \n",
    "    except (KeyError, IndexError):\n",
    "        print(\"City not found....Skipping............\")\n",
    "    \n",
    "    #If statement to handle the API call limits\n",
    "    if record_num == 51:\n",
    "        record_set += 1\n",
    "        record_num = 1\n",
    "        time.sleep(5)\n",
    "        \n",
    "print('''\n",
    "-----------------------------\n",
    "Data Retrival Complete\n",
    "-----------------------------''')"
   ]
  },
  {
   "cell_type": "markdown",
   "metadata": {},
   "source": [
    "### Convert Raw Data to DataFrame\n",
    "* Export the city data into a .csv.\n",
    "* Display the DataFrame"
   ]
  },
  {
   "cell_type": "code",
   "execution_count": 5,
   "metadata": {},
   "outputs": [
    {
     "data": {
      "text/plain": [
       "City                541\n",
       "Country             541\n",
       "Max Temperature     541\n",
       "Humidity (%)        541\n",
       "Cloudiness (%)      541\n",
       "Wind Speed (MPH)    541\n",
       "Latitude            541\n",
       "Longitude           541\n",
       "dtype: int64"
      ]
     },
     "execution_count": 5,
     "metadata": {},
     "output_type": "execute_result"
    }
   ],
   "source": [
    "#Clean dataframe to remove cities that were not found\n",
    "city_weather['Max Temperature'] = city_weather['Max Temperature'].replace('', np.nan)\n",
    "city_weather = city_weather.dropna()\n",
    "\n",
    "#Save dataframe\n",
    "city_weather.to_csv(\"Output_Data/CityWeatherData.csv\", index=False, header=True)\n",
    "\n",
    "#Preview the dataframe\n",
    "city_weather.count()\n",
    "# city_weather.head()"
   ]
  },
  {
   "cell_type": "markdown",
   "metadata": {},
   "source": [
    "## Inspect the data and remove the cities where the humidity > 100%.\n",
    "----\n",
    "Skip this step if there are no cities that have humidity > 100%. "
   ]
  },
  {
   "cell_type": "code",
   "execution_count": 6,
   "metadata": {},
   "outputs": [
    {
     "data": {
      "text/html": [
       "<div>\n",
       "<style scoped>\n",
       "    .dataframe tbody tr th:only-of-type {\n",
       "        vertical-align: middle;\n",
       "    }\n",
       "\n",
       "    .dataframe tbody tr th {\n",
       "        vertical-align: top;\n",
       "    }\n",
       "\n",
       "    .dataframe thead th {\n",
       "        text-align: right;\n",
       "    }\n",
       "</style>\n",
       "<table border=\"1\" class=\"dataframe\">\n",
       "  <thead>\n",
       "    <tr style=\"text-align: right;\">\n",
       "      <th></th>\n",
       "      <th>City</th>\n",
       "      <th>Country</th>\n",
       "      <th>Max Temperature</th>\n",
       "      <th>Humidity (%)</th>\n",
       "      <th>Cloudiness (%)</th>\n",
       "      <th>Wind Speed (MPH)</th>\n",
       "      <th>Latitude</th>\n",
       "      <th>Longitude</th>\n",
       "    </tr>\n",
       "  </thead>\n",
       "  <tbody>\n",
       "  </tbody>\n",
       "</table>\n",
       "</div>"
      ],
      "text/plain": [
       "Empty DataFrame\n",
       "Columns: [City, Country, Max Temperature, Humidity (%), Cloudiness (%), Wind Speed (MPH), Latitude, Longitude]\n",
       "Index: []"
      ]
     },
     "execution_count": 6,
     "metadata": {},
     "output_type": "execute_result"
    }
   ],
   "source": [
    "over100humidity = city_weather.loc[(city_weather[\"Humidity (%)\"]>100),:]\n",
    "over100humidity"
   ]
  },
  {
   "cell_type": "markdown",
   "metadata": {},
   "source": [
    "## Plotting the Data\n",
    "* Use proper labeling of the plots using plot titles (including date of analysis) and axes labels.\n",
    "* Save the plotted figures as .pngs."
   ]
  },
  {
   "cell_type": "markdown",
   "metadata": {},
   "source": [
    "## Latitude vs. Temperature Plot"
   ]
  },
  {
   "cell_type": "code",
   "execution_count": 71,
   "metadata": {
    "scrolled": false
   },
   "outputs": [
    {
     "data": {
      "image/png": "[encoded data removed]",
      "text/plain": [
       "<Figure size 432x288 with 1 Axes>"
      ]
     },
     "metadata": {
      "needs_background": "light"
     },
     "output_type": "display_data"
    }
   ],
   "source": [
    "# Build a scatter plot for each data type\n",
    "plt.scatter(city_weather[\"Latitude\"], city_weather[\"Max Temperature\"], marker=\"o\")\n",
    "\n",
    "# Incorporate the other graph properties\n",
    "plt.title(f'City Latitude vs. Max Temperature {time.strftime(\"%m/%d/%Y\")}')\n",
    "plt.ylabel(\"Maximum Temperature (F)\")\n",
    "plt.xlabel(\"Latitude\")\n",
    "plt.grid(True)\n",
    "\n",
    "# Save the figure\n",
    "plt.savefig(\"Output_Data/city_latitude_maxtemp.png\")\n",
    "\n",
    "# Show plot\n",
    "plt.show()"
   ]
  },
  {
   "cell_type": "markdown",
   "metadata": {},
   "source": [
    "In this scatter plot each dot represents a temperature (y-axis) at a specific latitude (x-axis).  As can be seen, the northern hemisphere temperatures go down with latitude, as the latitude rises above the equator (0 on the x axis). The southern hemisphere temperatures go down with latitude, as the latitude falls below the equator (0 on the x axis).   "
   ]
  },
  {
   "cell_type": "markdown",
   "metadata": {},
   "source": [
    "## Latitude vs. Humidity Plot"
   ]
  },
  {
   "cell_type": "code",
   "execution_count": 72,
   "metadata": {},
   "outputs": [
    {
     "data": {
      "image/png": "[encoded data removed]",
      "text/plain": [
       "<Figure size 432x288 with 1 Axes>"
      ]
     },
     "metadata": {
      "needs_background": "light"
     },
     "output_type": "display_data"
    }
   ],
   "source": [
    "# Build a scatter plot for each data type\n",
    "plt.scatter(city_weather[\"Latitude\"], city_weather[\"Humidity (%)\"], marker=\"o\")\n",
    "\n",
    "# Incorporate the other graph properties\n",
    "plt.title(f'City Latitude vs. Humidity {time.strftime(\"%m/%d/%Y\")}')\n",
    "plt.ylabel(\"Humidity\")\n",
    "plt.xlabel(\"Latitude\")\n",
    "plt.grid(True)\n",
    "\n",
    "# Save the figure\n",
    "plt.savefig(\"Output_Data/city_latitude_hum.png\")\n",
    "\n",
    "# Show plot\n",
    "plt.show()"
   ]
  },
  {
   "cell_type": "markdown",
   "metadata": {},
   "source": [
    "In this scatter plot each dot represents humidity in percent (y-axis) at a specific latitude (x-axis). There does not appear to be a significant relationship between humidity and latitude.   "
   ]
  },
  {
   "cell_type": "markdown",
   "metadata": {},
   "source": [
    "## Latitude vs. Cloudiness Plot"
   ]
  },
  {
   "cell_type": "code",
   "execution_count": 73,
   "metadata": {},
   "outputs": [
    {
     "data": {
      "image/png": "[encoded data removed]",
      "text/plain": [
       "<Figure size 432x288 with 1 Axes>"
      ]
     },
     "metadata": {
      "needs_background": "light"
     },
     "output_type": "display_data"
    }
   ],
   "source": [
    "# Build a scatter plot for each data type\n",
    "plt.scatter(city_weather[\"Latitude\"], city_weather[\"Cloudiness (%)\"], marker=\"o\")\n",
    "\n",
    "# Incorporate the other graph properties\n",
    "plt.title(f'City Latitude vs. Max Cloudiness {time.strftime(\"%m/%d/%Y\")}')\n",
    "plt.ylabel(\"Cloudiness\")\n",
    "plt.xlabel(\"Latitude\")\n",
    "plt.grid(True)\n",
    "\n",
    "# Save the figure\n",
    "plt.savefig(\"Output_Data/city_latitude_cloud.png\")\n",
    "\n",
    "# Show plot\n",
    "plt.show()"
   ]
  },
  {
   "cell_type": "markdown",
   "metadata": {},
   "source": [
    "In this scatter plot each dot represents cloudiness in percent (y-axis) at a specific latitude (x-axis). There does not appear to be a significant relationship between cloudiness and latitude.   "
   ]
  },
  {
   "cell_type": "markdown",
   "metadata": {},
   "source": [
    "## Latitude vs. Wind Speed Plot"
   ]
  },
  {
   "cell_type": "code",
   "execution_count": 74,
   "metadata": {},
   "outputs": [
    {
     "data": {
      "image/png": "[encoded data removed]",
      "text/plain": [
       "<Figure size 432x288 with 1 Axes>"
      ]
     },
     "metadata": {
      "needs_background": "light"
     },
     "output_type": "display_data"
    }
   ],
   "source": [
    "# Build a scatter plot for each data type\n",
    "plt.scatter(city_weather[\"Latitude\"], city_weather[\"Wind Speed (MPH)\"], marker=\"o\")\n",
    "\n",
    "# Incorporate the other graph properties\n",
    "plt.title(f'City Latitude vs. Wind Speed {time.strftime(\"%m/%d/%Y\")}')\n",
    "plt.ylabel(\"Wind Speed\")\n",
    "plt.xlabel(\"Latitude\")\n",
    "plt.grid(True)\n",
    "\n",
    "# Save the figure\n",
    "plt.savefig(\"Output_Data/city_latitude_wind.png\")\n",
    "\n",
    "# Show plot\n",
    "plt.show()"
   ]
  },
  {
   "cell_type": "markdown",
   "metadata": {},
   "source": [
    "In this scatter plot each dot represents windspeed in mph (y-axis) at a specific latitude (x-axis). There does not appear to be a significant relationship between windspeed and latitude.   "
   ]
  },
  {
   "cell_type": "markdown",
   "metadata": {},
   "source": [
    "## Linear Regression"
   ]
  },
  {
   "cell_type": "code",
   "execution_count": 11,
   "metadata": {},
   "outputs": [],
   "source": [
    "# OPTIONAL: Create a function to create Linear Regression plots"
   ]
  },
  {
   "cell_type": "code",
   "execution_count": 12,
   "metadata": {},
   "outputs": [
    {
     "data": {
      "text/plain": [
       "City                 object\n",
       "Country              object\n",
       "Max Temperature     float64\n",
       "Humidity (%)         object\n",
       "Cloudiness (%)       object\n",
       "Wind Speed (MPH)     object\n",
       "Latitude            float64\n",
       "Longitude            object\n",
       "dtype: object"
      ]
     },
     "execution_count": 12,
     "metadata": {},
     "output_type": "execute_result"
    }
   ],
   "source": [
    "# Create Northern and Southern Hemisphere DataFrames\n",
    "\n",
    "north_hemisphere = city_weather.loc[city_weather[\"Latitude\"] > 0]\n",
    "south_hemisphere = city_weather.loc[city_weather[\"Latitude\"] < 0]\n",
    "\n",
    "# north_hemisphere.to_csv(\"output_data/northhem.csv\", index = False)\n",
    "# south_hemisphere.to_csv(\"output_data/southhem.csv\", index = False)\n",
    "\n",
    "south_hemisphere.astype({'Latitude': 'float'}).dtypes\n",
    "north_hemisphere.astype({'Latitude': 'float'}).dtypes\n"
   ]
  },
  {
   "cell_type": "markdown",
   "metadata": {},
   "source": [
    "####  Northern Hemisphere - Max Temp vs. Latitude Linear Regression"
   ]
  },
  {
   "cell_type": "code",
   "execution_count": 13,
   "metadata": {},
   "outputs": [],
   "source": [
    "# Hemisphere Variables\n",
    "\n",
    "nhtemp = north_hemisphere[\"Max Temperature\"]\n",
    "shtemp = south_hemisphere[\"Max Temperature\"]\n",
    "nhhum = north_hemisphere[\"Humidity (%)\"]\n",
    "shhum = south_hemisphere[\"Humidity (%)\"]\n",
    "nhcloud = north_hemisphere[\"Cloudiness (%)\"]\n",
    "shcloud = south_hemisphere[\"Cloudiness (%)\"]\n",
    "nhwind = north_hemisphere[\"Wind Speed (MPH)\"]\n",
    "shwind = south_hemisphere[\"Wind Speed (MPH)\"]\n",
    "nhlat = north_hemisphere[\"Latitude\"]\n",
    "shlat = south_hemisphere[\"Latitude\"]\n",
    "\n",
    "\n"
   ]
  },
  {
   "cell_type": "code",
   "execution_count": 63,
   "metadata": {
    "scrolled": true
   },
   "outputs": [
    {
     "name": "stdout",
     "output_type": "stream",
     "text": [
      "The r-squared of latitude and Max Temperature is 0.4949698017925728\n"
     ]
    },
    {
     "data": {
      "image/png": "[encoded data removed]",
      "text/plain": [
       "<Figure size 432x288 with 1 Axes>"
      ]
     },
     "metadata": {
      "needs_background": "light"
     },
     "output_type": "display_data"
    }
   ],
   "source": [
    "slope, intercept, rvalue, pvalue, stderr = linregress(nhlat.astype(float),nhtemp.astype(float))\n",
    "regress_values = slope * nhlat + intercept\n",
    "line_eq = \"y = \" + str(round(slope,2)) + \"x + \" + str(round(intercept,2))\n",
    "\n",
    "plt.scatter(nhlat,nhtemp)\n",
    "plt.plot(nhlat,regress_values)\n",
    "plt.annotate(line_eq,(16,35),fontsize=15,color=\"red\")\n",
    "plt.xlabel('Latitude')\n",
    "plt.ylabel('Max Temp F')\n",
    "plt.savefig(\"Output_Data/nhem_lat_temp.png\")\n",
    "\n",
    "print(\"The r-squared of latitude and Max Temperature is \" + str(rvalue**2))\n",
    "           "
   ]
  },
  {
   "cell_type": "markdown",
   "metadata": {},
   "source": [
    "In this scatter plot each dot represents max temperature in fahrenheit (y-axis) at a specific latitude in the northern hemisphere (x-axis is greater than 0). As latitude increases, max temperature decreases.  This is very logical as the sun is closest to the equator, and as the latitude moves away from the equator the temperature should get cooler. The r-squared value is 50%.  This shows that latitude can explain 50% of the variation in max temp.    "
   ]
  },
  {
   "cell_type": "markdown",
   "metadata": {},
   "source": [
    "####  Southern Hemisphere - Max Temp vs. Latitude Linear Regression"
   ]
  },
  {
   "cell_type": "code",
   "execution_count": 64,
   "metadata": {
    "scrolled": true
   },
   "outputs": [
    {
     "name": "stdout",
     "output_type": "stream",
     "text": [
      "The r-squared of latitude and Max Temperature is 0.6482927635402123\n"
     ]
    },
    {
     "data": {
      "image/png": "[encoded data removed]",
      "text/plain": [
       "<Figure size 432x288 with 1 Axes>"
      ]
     },
     "metadata": {
      "needs_background": "light"
     },
     "output_type": "display_data"
    }
   ],
   "source": [
    "slope, intercept, rvalue, pvalue, stderr = linregress(shlat.astype(float),shtemp.astype(float))\n",
    "regress_values = slope * shlat + intercept\n",
    "line_eq = \"y = \" + str(round(slope,2)) + \"x + \" + str(round(intercept,2))\n",
    "\n",
    "plt.scatter(shlat,shtemp)\n",
    "plt.plot(shlat,regress_values)\n",
    "plt.annotate(line_eq,(-45,35),fontsize=15,color=\"red\")\n",
    "plt.xlabel('Latitude')\n",
    "plt.ylabel('Max Temp F')\n",
    "plt.savefig(\"Output_Data/shem_lat_temp.png\")\n",
    "\n",
    "\n",
    "print(\"The r-squared of latitude and Max Temperature is \" + str(rvalue**2))\n",
    "           "
   ]
  },
  {
   "cell_type": "markdown",
   "metadata": {},
   "source": [
    "In this scatter plot each dot represents max temperature in fahrenheit (y-axis) at a specific latitude in the southern hemisphere (x-axis is less than 0). As latitude decreases, max temperature decreases.  This is very logical as the sun is closest to the equator, and as the latitude moves away from the equator the temperature should get cooler.  The r-squared value is 65%.  This shows that latitude can explain 65% of the variation in max temp.  "
   ]
  },
  {
   "cell_type": "markdown",
   "metadata": {},
   "source": [
    "####  Northern Hemisphere - Humidity (%) vs. Latitude Linear Regression"
   ]
  },
  {
   "cell_type": "code",
   "execution_count": 65,
   "metadata": {
    "scrolled": true
   },
   "outputs": [
    {
     "name": "stdout",
     "output_type": "stream",
     "text": [
      "The r-squared of latitude and humidity is 0.0013609336019896493\n"
     ]
    },
    {
     "data": {
      "image/png": "[encoded data removed]",
      "text/plain": [
       "<Figure size 432x288 with 1 Axes>"
      ]
     },
     "metadata": {
      "needs_background": "light"
     },
     "output_type": "display_data"
    }
   ],
   "source": [
    "slope, intercept, rvalue, pvalue, stderr = linregress(nhlat.astype(float),nhhum.astype(float))\n",
    "regress_values = slope * nhlat + intercept\n",
    "line_eq = \"y = \" + str(round(slope,2)) + \"x + \" + str(round(intercept,2))\n",
    "\n",
    "plt.scatter(nhlat,nhhum)\n",
    "plt.plot(nhlat,regress_values)\n",
    "plt.annotate(line_eq,(16,35),fontsize=15,color=\"red\")\n",
    "plt.xlabel('Latitude')\n",
    "plt.ylabel('Humidity %')\n",
    "plt.savefig(\"Output_Data/nhem_lat_hum.png\")\n",
    "\n",
    "print(\"The r-squared of latitude and humidity is \" + str(rvalue**2))"
   ]
  },
  {
   "cell_type": "markdown",
   "metadata": {},
   "source": [
    "In this scatter plot each dot represents humidity in percent (y-axis) at a specific latitude in the northern hemisphere (x-axis is greater than 0). There does not seem to be a significant relationship between humidity and latitude.  This is proven by the low r-squared value. "
   ]
  },
  {
   "cell_type": "markdown",
   "metadata": {},
   "source": [
    "####  Southern Hemisphere - Humidity (%) vs. Latitude Linear Regression"
   ]
  },
  {
   "cell_type": "code",
   "execution_count": 66,
   "metadata": {},
   "outputs": [
    {
     "name": "stdout",
     "output_type": "stream",
     "text": [
      "The r-squared of latitude and humidity is 0.00456859405449608\n"
     ]
    },
    {
     "data": {
      "image/png": "[encoded data removed]",
      "text/plain": [
       "<Figure size 432x288 with 1 Axes>"
      ]
     },
     "metadata": {
      "needs_background": "light"
     },
     "output_type": "display_data"
    }
   ],
   "source": [
    "slope, intercept, rvalue, pvalue, stderr = linregress(shlat.astype(float),shhum.astype(float))\n",
    "regress_values = slope * shlat + intercept\n",
    "line_eq = \"y = \" + str(round(slope,2)) + \"x + \" + str(round(intercept,2))\n",
    "\n",
    "plt.scatter(shlat,shhum)\n",
    "plt.plot(shlat,regress_values)\n",
    "plt.annotate(line_eq,(-45,35),fontsize=15,color=\"red\")\n",
    "plt.xlabel('Latitude')\n",
    "plt.ylabel('Humidity %')\n",
    "plt.savefig(\"Output_Data/shem_lat_hum.png\")\n",
    "\n",
    "\n",
    "print(\"The r-squared of latitude and humidity is \" + str(rvalue**2))"
   ]
  },
  {
   "cell_type": "markdown",
   "metadata": {},
   "source": [
    "In this scatter plot each dot represents humidity in percent (y-axis) at a specific latitude in the southern hemisphere (x-axis is less than 0). There does not seem to be a significant relationship between humidity and latitude.  This is proven by the low r-squared value. "
   ]
  },
  {
   "cell_type": "markdown",
   "metadata": {},
   "source": [
    "####  Northern Hemisphere - Cloudiness (%) vs. Latitude Linear Regression"
   ]
  },
  {
   "cell_type": "code",
   "execution_count": 67,
   "metadata": {},
   "outputs": [
    {
     "name": "stdout",
     "output_type": "stream",
     "text": [
      "The r-squared of latitude and cloud cover is 0.026599960874726457\n"
     ]
    },
    {
     "data": {
      "image/png": "[encoded data removed]",
      "text/plain": [
       "<Figure size 432x288 with 1 Axes>"
      ]
     },
     "metadata": {
      "needs_background": "light"
     },
     "output_type": "display_data"
    }
   ],
   "source": [
    "slope, intercept, rvalue, pvalue, stderr = linregress(nhlat.astype(float),nhcloud.astype(float))\n",
    "regress_values = slope * nhlat + intercept\n",
    "line_eq = \"y = \" + str(round(slope,2)) + \"x + \" + str(round(intercept,2))\n",
    "\n",
    "plt.scatter(nhlat,nhcloud)\n",
    "plt.plot(nhlat,regress_values)\n",
    "plt.annotate(line_eq,(10,10),fontsize=15,color=\"red\")\n",
    "plt.xlabel('Latitude')\n",
    "plt.ylabel('Cloud Cover %')\n",
    "plt.savefig(\"Output_Data/nhem_lat_cloud.png\")\n",
    "\n",
    "\n",
    "print(\"The r-squared of latitude and cloud cover is \" + str(rvalue**2))\n"
   ]
  },
  {
   "cell_type": "markdown",
   "metadata": {},
   "source": [
    "In this scatter plot each dot represents cloud cover in percent (y-axis) at a specific latitude in the northern hemisphere (x-axis is greater than 0). There does not seem to be a significant relationship between cloud cover and latitude.  This is proven by the low r-squared value. "
   ]
  },
  {
   "cell_type": "markdown",
   "metadata": {},
   "source": [
    "####  Southern Hemisphere - Cloudiness (%) vs. Latitude Linear Regression"
   ]
  },
  {
   "cell_type": "code",
   "execution_count": 68,
   "metadata": {},
   "outputs": [
    {
     "name": "stdout",
     "output_type": "stream",
     "text": [
      "The r-squared of latitude and cloud cover is 0.0020922883947303407\n"
     ]
    },
    {
     "data": {
      "image/png": "[encoded data removed]",
      "text/plain": [
       "<Figure size 432x288 with 1 Axes>"
      ]
     },
     "metadata": {
      "needs_background": "light"
     },
     "output_type": "display_data"
    }
   ],
   "source": [
    "slope, intercept, rvalue, pvalue, stderr = linregress(shlat.astype(float),shcloud.astype(float))\n",
    "regress_values = slope * shlat + intercept\n",
    "line_eq = \"y = \" + str(round(slope,2)) + \"x + \" + str(round(intercept,2))\n",
    "\n",
    "plt.scatter(shlat,shcloud)\n",
    "plt.plot(shlat,regress_values)\n",
    "plt.annotate(line_eq,(-50,30),fontsize=15,color=\"red\")\n",
    "plt.xlabel('Latitude')\n",
    "plt.ylabel('Cloud Cover %')\n",
    "plt.savefig(\"Output_Data/shem_lat_cloud.png\")\n",
    "\n",
    "\n",
    "print(\"The r-squared of latitude and cloud cover is \" + str(rvalue**2))"
   ]
  },
  {
   "cell_type": "markdown",
   "metadata": {},
   "source": [
    "In this scatter plot each dot represents cloud cover in percent (y-axis) at a specific latitude in the southern hemisphere (x-axis is less than 0). There does not seem to be a significant relationship between cloud cover and latitude.  This is proven by the low r-squared value. "
   ]
  },
  {
   "cell_type": "markdown",
   "metadata": {},
   "source": [
    "####  Northern Hemisphere - Wind Speed (mph) vs. Latitude Linear Regression"
   ]
  },
  {
   "cell_type": "code",
   "execution_count": 69,
   "metadata": {},
   "outputs": [
    {
     "name": "stdout",
     "output_type": "stream",
     "text": [
      "The r-squared of latitude and wind speed is 0.00016819318564063852\n"
     ]
    },
    {
     "data": {
      "image/png": "[encoded data removed]",
      "text/plain": [
       "<Figure size 432x288 with 1 Axes>"
      ]
     },
     "metadata": {
      "needs_background": "light"
     },
     "output_type": "display_data"
    }
   ],
   "source": [
    "slope, intercept, rvalue, pvalue, stderr = linregress(nhlat.astype(float),nhwind.astype(float))\n",
    "regress_values = slope * nhlat + intercept\n",
    "line_eq = \"y = \" + str(round(slope,2)) + \"x + \" + str(round(intercept,2))\n",
    "\n",
    "plt.scatter(nhlat,nhwind)\n",
    "plt.plot(nhlat,regress_values)\n",
    "plt.annotate(line_eq,(10,10),fontsize=15,color=\"red\")\n",
    "plt.xlabel('Latitude')\n",
    "plt.ylabel('Wind Speed (mph)')\n",
    "plt.savefig(\"Output_Data/nhem_lat_wind.png\")\n",
    "\n",
    "\n",
    "print(\"The r-squared of latitude and wind speed is \" + str(rvalue**2))\n"
   ]
  },
  {
   "cell_type": "markdown",
   "metadata": {},
   "source": [
    "In this scatter plot each dot represents wind speed in mph (y-axis) at a specific latitude in the northern hemisphere (x-axis is greater than 0). There does not seem to be a significant relationship between wind speed and latitude.  This is proven by the low r-squared value. "
   ]
  },
  {
   "cell_type": "markdown",
   "metadata": {},
   "source": [
    "####  Southern Hemisphere - Wind Speed (mph) vs. Latitude Linear Regression"
   ]
  },
  {
   "cell_type": "code",
   "execution_count": 70,
   "metadata": {},
   "outputs": [
    {
     "name": "stdout",
     "output_type": "stream",
     "text": [
      "The r-squared of latitude and wind speed is 0.021875907652177163\n"
     ]
    },
    {
     "data": {
      "image/png": "[encoded data removed]",
      "text/plain": [
       "<Figure size 432x288 with 1 Axes>"
      ]
     },
     "metadata": {
      "needs_background": "light"
     },
     "output_type": "display_data"
    }
   ],
   "source": [
    "slope, intercept, rvalue, pvalue, stderr = linregress(shlat.astype(float),shwind.astype(float))\n",
    "regress_values = slope * shlat + intercept\n",
    "line_eq = \"y = \" + str(round(slope,2)) + \"x + \" + str(round(intercept,2))\n",
    "\n",
    "plt.scatter(shlat,shwind)\n",
    "plt.plot(shlat,regress_values)\n",
    "plt.annotate(line_eq,(-50,23),fontsize=15,color=\"red\")\n",
    "plt.xlabel('Latitude')\n",
    "plt.ylabel('Wind Speed (mph)')\n",
    "plt.savefig(\"Output_Data/shem_lat_wind.png\")\n",
    "\n",
    "\n",
    "print(\"The r-squared of latitude and wind speed is \" + str(rvalue**2))"
   ]
  },
  {
   "cell_type": "markdown",
   "metadata": {},
   "source": [
    "In this scatter plot each dot represents wind speed in mph (y-axis) at a specific latitude in the southern hemisphere (x-axis is greater than 0). There does not seem to be a significant relationship between wind speed and latitude.  This is proven by the low r-squared value. "
   ]
  }
 ],
 "metadata": {
  "anaconda-cloud": {},
  "kernel_info": {
   "name": "python3"
  },
  "kernelspec": {
   "display_name": "Python 3.6.10 64-bit ('PythonData': conda)",
   "language": "python",
   "name": "python361064bitpythondataconda42b4411259a540dab88830aae798104f"
  },
  "language_info": {
   "codemirror_mode": {
    "name": "ipython",
    "version": 3
   },
   "file_extension": ".py",
   "mimetype": "text/x-python",
   "name": "python",
   "nbconvert_exporter": "python",
   "pygments_lexer": "ipython3",
   "version": "3.6.10"
  },
  "latex_envs": {
   "LaTeX_envs_menu_present": true,
   "autoclose": false,
   "autocomplete": true,
   "bibliofile": "biblio.bib",
   "cite_by": "apalike",
   "current_citInitial": 1,
   "eqLabelWithNumbers": true,
   "eqNumInitial": 1,
   "hotkeys": {
    "equation": "Ctrl-E",
    "itemize": "Ctrl-I"
   },
   "labels_anchors": false,
   "latex_user_defs": false,
   "report_style_numbering": false,
   "user_envs_cfg": false
  },
  "nteract": {
   "version": "0.12.3"
  }
 },
 "nbformat": 4,
 "nbformat_minor": 2
}
