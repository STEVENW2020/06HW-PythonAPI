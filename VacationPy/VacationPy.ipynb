{
 "cells": [
  {
   "cell_type": "markdown",
   "metadata": {},
   "source": [
    "# VacationPy\n",
    "----\n",
    "\n",
    "#### Note\n",
    "* Instructions have been included for each segment. You do not have to follow them exactly, but they are included to help you think through the steps."
   ]
  },
  {
   "cell_type": "code",
   "execution_count": 1,
   "metadata": {},
   "outputs": [],
   "source": [
    "# Dependencies and Setup\n",
    "import matplotlib.pyplot as plt\n",
    "import pandas as pd\n",
    "import numpy as np\n",
    "import requests\n",
    "import gmaps\n",
    "import os\n",
    "\n",
    "# Import API key\n",
    "from api_keys import g_key"
   ]
  },
  {
   "cell_type": "markdown",
   "metadata": {},
   "source": [
    "### Store Part I results into DataFrame\n",
    "* Load the csv exported in Part I to a DataFrame"
   ]
  },
  {
   "cell_type": "code",
   "execution_count": 2,
   "metadata": {},
   "outputs": [
    {
     "data": {
      "text/html": [
       "<div>\n",
       "<style scoped>\n",
       "    .dataframe tbody tr th:only-of-type {\n",
       "        vertical-align: middle;\n",
       "    }\n",
       "\n",
       "    .dataframe tbody tr th {\n",
       "        vertical-align: top;\n",
       "    }\n",
       "\n",
       "    .dataframe thead th {\n",
       "        text-align: right;\n",
       "    }\n",
       "</style>\n",
       "<table border=\"1\" class=\"dataframe\">\n",
       "  <thead>\n",
       "    <tr style=\"text-align: right;\">\n",
       "      <th></th>\n",
       "      <th>City</th>\n",
       "      <th>Country</th>\n",
       "      <th>Max Temperature</th>\n",
       "      <th>Humidity (%)</th>\n",
       "      <th>Cloudiness (%)</th>\n",
       "      <th>Wind Speed (MPH)</th>\n",
       "      <th>Latitude</th>\n",
       "      <th>Longitude</th>\n",
       "    </tr>\n",
       "  </thead>\n",
       "  <tbody>\n",
       "    <tr>\n",
       "      <th>0</th>\n",
       "      <td>ushuaia</td>\n",
       "      <td>AR</td>\n",
       "      <td>33.80</td>\n",
       "      <td>69</td>\n",
       "      <td>40</td>\n",
       "      <td>19.46</td>\n",
       "      <td>-54.80</td>\n",
       "      <td>-68.30</td>\n",
       "    </tr>\n",
       "    <tr>\n",
       "      <th>1</th>\n",
       "      <td>bethel</td>\n",
       "      <td>US</td>\n",
       "      <td>72.00</td>\n",
       "      <td>88</td>\n",
       "      <td>1</td>\n",
       "      <td>2.77</td>\n",
       "      <td>41.37</td>\n",
       "      <td>-73.41</td>\n",
       "    </tr>\n",
       "    <tr>\n",
       "      <th>2</th>\n",
       "      <td>freeport</td>\n",
       "      <td>US</td>\n",
       "      <td>77.00</td>\n",
       "      <td>88</td>\n",
       "      <td>20</td>\n",
       "      <td>3.51</td>\n",
       "      <td>40.66</td>\n",
       "      <td>-73.58</td>\n",
       "    </tr>\n",
       "    <tr>\n",
       "      <th>3</th>\n",
       "      <td>cape town</td>\n",
       "      <td>ZA</td>\n",
       "      <td>63.00</td>\n",
       "      <td>63</td>\n",
       "      <td>75</td>\n",
       "      <td>8.05</td>\n",
       "      <td>-33.93</td>\n",
       "      <td>18.42</td>\n",
       "    </tr>\n",
       "    <tr>\n",
       "      <th>4</th>\n",
       "      <td>shangrao</td>\n",
       "      <td>CN</td>\n",
       "      <td>82.47</td>\n",
       "      <td>79</td>\n",
       "      <td>100</td>\n",
       "      <td>1.28</td>\n",
       "      <td>28.45</td>\n",
       "      <td>117.97</td>\n",
       "    </tr>\n",
       "  </tbody>\n",
       "</table>\n",
       "</div>"
      ],
      "text/plain": [
       "        City Country  Max Temperature  Humidity (%)  Cloudiness (%)  \\\n",
       "0    ushuaia      AR            33.80            69              40   \n",
       "1     bethel      US            72.00            88               1   \n",
       "2   freeport      US            77.00            88              20   \n",
       "3  cape town      ZA            63.00            63              75   \n",
       "4   shangrao      CN            82.47            79             100   \n",
       "\n",
       "   Wind Speed (MPH)  Latitude  Longitude  \n",
       "0             19.46    -54.80     -68.30  \n",
       "1              2.77     41.37     -73.41  \n",
       "2              3.51     40.66     -73.58  \n",
       "3              8.05    -33.93      18.42  \n",
       "4              1.28     28.45     117.97  "
      ]
     },
     "execution_count": 2,
     "metadata": {},
     "output_type": "execute_result"
    }
   ],
   "source": [
    "weather_csv_file = \"../WeatherPy/output_data/cityweatherdata.csv\"\n",
    "\n",
    "weather_df = pd.read_csv(weather_csv_file)\n",
    "\n",
    "weather_df.head()\n"
   ]
  },
  {
   "cell_type": "markdown",
   "metadata": {},
   "source": [
    "### Humidity Heatmap\n",
    "* Configure gmaps.\n",
    "* Use the Lat and Lng as locations and Humidity as the weight.\n",
    "* Add Heatmap layer to map."
   ]
  },
  {
   "cell_type": "code",
   "execution_count": 3,
   "metadata": {},
   "outputs": [
    {
     "data": {
      "application/vnd.jupyter.widget-view+json": {
       "model_id": "eb8fe190934f4c00861afd85c1656951",
       "version_major": 2,
       "version_minor": 0
      },
      "text/plain": [
       "Figure(layout=FigureLayout(height='420px'))"
      ]
     },
     "metadata": {},
     "output_type": "display_data"
    },
    {
     "data": {
      "text/plain": [
       "<Figure size 432x288 with 0 Axes>"
      ]
     },
     "metadata": {},
     "output_type": "display_data"
    }
   ],
   "source": [
    "# Configure gmaps with API key.\n",
    "gmaps.configure(api_key=g_key)\n",
    "\n",
    "# Convert Humidity to float and store\n",
    "# Also, handle NaN values\n",
    "weather_df = weather_df.dropna()\n",
    "humidity = weather_df[\"Humidity (%)\"].astype(float)\n",
    "\n",
    "# Store 'Latitude' and 'Longitude' into  locations. \n",
    "locations = weather_df[[\"Latitude\", \"Longitude\"]].astype(float)\n",
    "\n",
    "# Create a humidity Heatmap layer\n",
    "fig = gmaps.figure()\n",
    "\n",
    "heat_layer = gmaps.heatmap_layer(locations, weights=humidity, \n",
    "                                 dissipating=False, max_intensity=max(weather_df[\"Humidity (%)\"]),\n",
    "                                 point_radius = 2)\n",
    "\n",
    "fig.add_layer(heat_layer)\n",
    "# Save the figure\n",
    "plt.savefig(\"output_data/heatmap.png\")\n",
    "fig"
   ]
  },
  {
   "cell_type": "code",
   "execution_count": null,
   "metadata": {},
   "outputs": [],
   "source": []
  },
  {
   "cell_type": "markdown",
   "metadata": {},
   "source": [
    "### Create new DataFrame fitting weather criteria\n",
    "* Narrow down the cities to fit weather conditions.\n",
    "* Drop any rows will null values."
   ]
  },
  {
   "cell_type": "code",
   "execution_count": 4,
   "metadata": {},
   "outputs": [
    {
     "data": {
      "text/html": [
       "<div>\n",
       "<style scoped>\n",
       "    .dataframe tbody tr th:only-of-type {\n",
       "        vertical-align: middle;\n",
       "    }\n",
       "\n",
       "    .dataframe tbody tr th {\n",
       "        vertical-align: top;\n",
       "    }\n",
       "\n",
       "    .dataframe thead th {\n",
       "        text-align: right;\n",
       "    }\n",
       "</style>\n",
       "<table border=\"1\" class=\"dataframe\">\n",
       "  <thead>\n",
       "    <tr style=\"text-align: right;\">\n",
       "      <th></th>\n",
       "      <th>City</th>\n",
       "      <th>Country</th>\n",
       "      <th>Max Temperature</th>\n",
       "      <th>Humidity (%)</th>\n",
       "      <th>Cloudiness (%)</th>\n",
       "      <th>Wind Speed (MPH)</th>\n",
       "      <th>Latitude</th>\n",
       "      <th>Longitude</th>\n",
       "    </tr>\n",
       "  </thead>\n",
       "  <tbody>\n",
       "    <tr>\n",
       "      <th>19</th>\n",
       "      <td>dutlwe</td>\n",
       "      <td>BW</td>\n",
       "      <td>72.14</td>\n",
       "      <td>19</td>\n",
       "      <td>0</td>\n",
       "      <td>8.14</td>\n",
       "      <td>-23.98</td>\n",
       "      <td>23.90</td>\n",
       "    </tr>\n",
       "    <tr>\n",
       "      <th>77</th>\n",
       "      <td>lac du bonnet</td>\n",
       "      <td>CA</td>\n",
       "      <td>73.00</td>\n",
       "      <td>59</td>\n",
       "      <td>0</td>\n",
       "      <td>8.99</td>\n",
       "      <td>50.25</td>\n",
       "      <td>-96.06</td>\n",
       "    </tr>\n",
       "    <tr>\n",
       "      <th>111</th>\n",
       "      <td>richards bay</td>\n",
       "      <td>ZA</td>\n",
       "      <td>74.28</td>\n",
       "      <td>49</td>\n",
       "      <td>0</td>\n",
       "      <td>9.15</td>\n",
       "      <td>-28.78</td>\n",
       "      <td>32.04</td>\n",
       "    </tr>\n",
       "    <tr>\n",
       "      <th>164</th>\n",
       "      <td>sinnamary</td>\n",
       "      <td>GF</td>\n",
       "      <td>79.95</td>\n",
       "      <td>83</td>\n",
       "      <td>0</td>\n",
       "      <td>5.06</td>\n",
       "      <td>5.38</td>\n",
       "      <td>-52.95</td>\n",
       "    </tr>\n",
       "    <tr>\n",
       "      <th>211</th>\n",
       "      <td>indiaroba</td>\n",
       "      <td>BR</td>\n",
       "      <td>78.19</td>\n",
       "      <td>79</td>\n",
       "      <td>0</td>\n",
       "      <td>6.17</td>\n",
       "      <td>-11.52</td>\n",
       "      <td>-37.51</td>\n",
       "    </tr>\n",
       "    <tr>\n",
       "      <th>212</th>\n",
       "      <td>karratha</td>\n",
       "      <td>AU</td>\n",
       "      <td>71.46</td>\n",
       "      <td>47</td>\n",
       "      <td>0</td>\n",
       "      <td>5.61</td>\n",
       "      <td>-20.74</td>\n",
       "      <td>116.85</td>\n",
       "    </tr>\n",
       "    <tr>\n",
       "      <th>439</th>\n",
       "      <td>novo aripuana</td>\n",
       "      <td>BR</td>\n",
       "      <td>78.37</td>\n",
       "      <td>67</td>\n",
       "      <td>0</td>\n",
       "      <td>2.19</td>\n",
       "      <td>-5.12</td>\n",
       "      <td>-60.38</td>\n",
       "    </tr>\n",
       "    <tr>\n",
       "      <th>470</th>\n",
       "      <td>ghanzi</td>\n",
       "      <td>BW</td>\n",
       "      <td>74.70</td>\n",
       "      <td>17</td>\n",
       "      <td>0</td>\n",
       "      <td>5.28</td>\n",
       "      <td>-21.57</td>\n",
       "      <td>21.78</td>\n",
       "    </tr>\n",
       "  </tbody>\n",
       "</table>\n",
       "</div>"
      ],
      "text/plain": [
       "              City Country  Max Temperature  Humidity (%)  Cloudiness (%)  \\\n",
       "19          dutlwe      BW            72.14            19               0   \n",
       "77   lac du bonnet      CA            73.00            59               0   \n",
       "111   richards bay      ZA            74.28            49               0   \n",
       "164      sinnamary      GF            79.95            83               0   \n",
       "211      indiaroba      BR            78.19            79               0   \n",
       "212       karratha      AU            71.46            47               0   \n",
       "439  novo aripuana      BR            78.37            67               0   \n",
       "470         ghanzi      BW            74.70            17               0   \n",
       "\n",
       "     Wind Speed (MPH)  Latitude  Longitude  \n",
       "19               8.14    -23.98      23.90  \n",
       "77               8.99     50.25     -96.06  \n",
       "111              9.15    -28.78      32.04  \n",
       "164              5.06      5.38     -52.95  \n",
       "211              6.17    -11.52     -37.51  \n",
       "212              5.61    -20.74     116.85  \n",
       "439              2.19     -5.12     -60.38  \n",
       "470              5.28    -21.57      21.78  "
      ]
     },
     "execution_count": 4,
     "metadata": {},
     "output_type": "execute_result"
    }
   ],
   "source": [
    "# Narrow down the DataFrame to find your ideal weather condition.\n",
    "filtered_weather_df = weather_df\n",
    "\n",
    "# Drop any rows that don't contain all three conditions. Want to be sure the weather is ideal.\n",
    "\n",
    "# A max temperature lower than 80 degrees but higher than 70.\n",
    "filtered_weather_df = filtered_weather_df.loc[(filtered_weather_df[\"Max Temperature\"] < 80) & (filtered_weather_df[\"Max Temperature\"] > 70)]\n",
    "\n",
    "# Wind speed less than 10 mph.\n",
    "filtered_weather_df = filtered_weather_df.loc[filtered_weather_df[\"Wind Speed (MPH)\"] < 10]\n",
    "\n",
    "# Zero cloudiness.\n",
    "filtered_weather_df = filtered_weather_df.loc[filtered_weather_df[\"Cloudiness (%)\"] == 0]\n",
    "\n",
    "# Drop any rows with null values\n",
    "filtered_weather_df = filtered_weather_df.dropna()\n",
    "\n",
    "filtered_weather_df"
   ]
  },
  {
   "cell_type": "markdown",
   "metadata": {},
   "source": [
    "### Hotel Map\n",
    "* Store into variable named `hotel_df`.\n",
    "* Add a \"Hotel Name\" column to the DataFrame.\n",
    "* Set parameters to search for hotels with 5000 meters.\n",
    "* Hit the Google Places API for each city's coordinates.\n",
    "* Store the first Hotel result into the DataFrame.\n",
    "* Plot markers on top of the heatmap."
   ]
  },
  {
   "cell_type": "code",
   "execution_count": 5,
   "metadata": {},
   "outputs": [
    {
     "name": "stdout",
     "output_type": "stream",
     "text": [
      "Retrieving Results for Index 19: dutlwe.\n",
      "Missing field/result... skipping.\n",
      "------------\n",
      "Retrieving Results for Index 77: lac du bonnet.\n",
      "Closest hotel is Casey's Inn Motor Hotel.\n",
      "------------\n",
      "Retrieving Results for Index 111: richards bay.\n",
      "Closest hotel is BON Hotel Waterfront Richards Bay.\n",
      "------------\n",
      "Retrieving Results for Index 164: sinnamary.\n",
      "Closest hotel is ALETHEIA Appartement Sinnamary.\n",
      "------------\n",
      "Retrieving Results for Index 211: indiaroba.\n",
      "Closest hotel is Igreja de Jesus Cristo.\n",
      "------------\n",
      "Retrieving Results for Index 212: karratha.\n",
      "Closest hotel is ibis Styles Karratha.\n",
      "------------\n",
      "Retrieving Results for Index 439: novo aripuana.\n",
      "Closest hotel is Hotel Ypê.\n",
      "------------\n",
      "Retrieving Results for Index 470: ghanzi.\n",
      "Closest hotel is Ghanzi Farmhouse.\n",
      "------------\n"
     ]
    }
   ],
   "source": [
    "hotel_df = filtered_weather_df\n",
    "\n",
    "# params dictionary to update each iteration\n",
    "params = {\n",
    "    \"radius\": 5000,\n",
    "    \"types\": \"lodging\",\n",
    "    \"key\": g_key\n",
    "}\n",
    "\n",
    "\n",
    "for index, row in hotel_df.iterrows():\n",
    "    # get lat, lng from df\n",
    "    lat = row[\"Latitude\"]\n",
    "    lng = row[\"Longitude\"]\n",
    "\n",
    "    # change location each iteration while leaving original params in place\n",
    "    params[\"location\"] = f\"{lat},{lng}\"\n",
    "    \n",
    "    base_url = \"https://maps.googleapis.com/maps/api/place/nearbysearch/json\"\n",
    "\n",
    "    # assemble url and make API request\n",
    "    print(f\"Retrieving Results for Index {index}: {row['City']}.\")\n",
    "    response = requests.get(base_url, params=params).json()\n",
    "    # print(json.dumps(response, indent=4, sort_keys=True))\n",
    "    \n",
    "    # extract results\n",
    "    results = response['results']\n",
    "    \n",
    "    try:\n",
    "        print(f\"Closest hotel is {results[0]['name']}.\")\n",
    "        hotel_df.loc[index, 'Hotel Name'] = results[0]['name']\n",
    "        \n",
    "    except (KeyError, IndexError):\n",
    "        print(\"Missing field/result... skipping.\")\n",
    "        \n",
    "    print(\"------------\")"
   ]
  },
  {
   "cell_type": "code",
   "execution_count": 6,
   "metadata": {},
   "outputs": [],
   "source": [
    "# NOTE: Do not change any of the code in this cell\n",
    "\n",
    "# Using the template add the hotel marks to the heatmap\n",
    "info_box_template = \"\"\"\n",
    "<dl>\n",
    "<dt>Name</dt><dd>{Hotel Name}</dd>\n",
    "<dt>City</dt><dd>{City}</dd>\n",
    "<dt>Country</dt><dd>{Country}</dd>\n",
    "</dl>\n",
    "\"\"\"\n",
    "# Store the DataFrame Row\n",
    "# NOTE: be sure to update with your DataFrame name\n",
    "hotel_info = [info_box_template.format(**row) for index, row in hotel_df.iterrows()]\n",
    "locations = hotel_df[[\"Latitude\", \"Longitude\"]]"
   ]
  },
  {
   "cell_type": "code",
   "execution_count": 7,
   "metadata": {},
   "outputs": [
    {
     "data": {
      "application/vnd.jupyter.widget-view+json": {
       "model_id": "eb8fe190934f4c00861afd85c1656951",
       "version_major": 2,
       "version_minor": 0
      },
      "text/plain": [
       "Figure(layout=FigureLayout(height='420px'))"
      ]
     },
     "metadata": {},
     "output_type": "display_data"
    },
    {
     "data": {
      "text/plain": [
       "<Figure size 432x288 with 0 Axes>"
      ]
     },
     "metadata": {},
     "output_type": "display_data"
    }
   ],
   "source": [
    "# Add marker layer ontop of heat map\n",
    "locations = hotel_df[[\"Latitude\", \"Longitude\"]]\n",
    "markers = gmaps.marker_layer(locations)\n",
    "hotel_layer = gmaps.symbol_layer(\n",
    "    locations, fill_color='rgba(0, 150, 0, 0.4)',\n",
    "    stroke_color='rgba(0, 0, 150, 0.4)', scale=2,\n",
    "    info_box_content=hotel_info\n",
    ")\n",
    "\n",
    "fig.add_layer(markers)\n",
    "fig.add_layer(hotel_layer)\n",
    "\n",
    "# Save the figure\n",
    "plt.savefig(\"output_data/hotelmap.png\")\n",
    "# Display figure\n",
    "fig"
   ]
  },
  {
   "cell_type": "code",
   "execution_count": null,
   "metadata": {},
   "outputs": [],
   "source": []
  }
 ],
 "metadata": {
  "kernelspec": {
   "display_name": "Python 3.6.10 64-bit ('PythonData': conda)",
   "language": "python",
   "name": "python361064bitpythondataconda42b4411259a540dab88830aae798104f"
  },
  "language_info": {
   "codemirror_mode": {
    "name": "ipython",
    "version": 3
   },
   "file_extension": ".py",
   "mimetype": "text/x-python",
   "name": "python",
   "nbconvert_exporter": "python",
   "pygments_lexer": "ipython3",
   "version": "3.6.10"
  },
  "latex_envs": {
   "LaTeX_envs_menu_present": true,
   "autoclose": false,
   "autocomplete": true,
   "bibliofile": "biblio.bib",
   "cite_by": "apalike",
   "current_citInitial": 1,
   "eqLabelWithNumbers": true,
   "eqNumInitial": 1,
   "hotkeys": {
    "equation": "Ctrl-E",
    "itemize": "Ctrl-I"
   },
   "labels_anchors": false,
   "latex_user_defs": false,
   "report_style_numbering": false,
   "user_envs_cfg": false
  }
 },
 "nbformat": 4,
 "nbformat_minor": 2
}
